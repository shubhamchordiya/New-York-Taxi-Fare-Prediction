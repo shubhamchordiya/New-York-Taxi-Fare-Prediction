{
 "cells": [
  {
   "cell_type": "markdown",
   "metadata": {
    "_uuid": "359708314acbf1afa3bfc0fccaf24e63dce32fcd"
   },
   "source": [
    "# 1) Define Problem"
   ]
  },
  {
   "cell_type": "markdown",
   "metadata": {
    "_uuid": "af312c3c71ac783b033681f78e78bf333588bcc6"
   },
   "source": [
    "# New York Taxi Fare Prediction: "
   ]
  },
  {
   "cell_type": "markdown",
   "metadata": {
    "_uuid": "33e1f1f294836380df59ce1b527e67fd24732b3c"
   },
   "source": [
    " our  tasked is  predicting the fare amount (inclusive of tolls) for a taxi ride in New York City given the pickup and dropoff locations. While we can get a basic estimate based on just the distance between the two points, this will result in an RMSE of $5-$8, depending on the model used . our  challenge is to do better than this using Machine Learning techniques!\n",
    "\n"
   ]
  },
  {
   "cell_type": "markdown",
   "metadata": {
    "_uuid": "78c3519df07ec2248754760e643484ea143d5325"
   },
   "source": [
    "# 2) Specify input and output"
   ]
  },
  {
   "cell_type": "markdown",
   "metadata": {
    "_uuid": "13f2180fac2a5e9d8fbdc1d65ae7a97ba594260b"
   },
   "source": [
    "# Data Field:"
   ]
  },
  {
   "cell_type": "markdown",
   "metadata": {
    "_uuid": "3d8ba6c1b5151add893d9e24d2872b5f919713cc"
   },
   "source": [
    "1)**ID**\n",
    "key - Unique string identifying each row in both the training and test sets. Comprised of pickup_datetime plus a unique integer, but this doesn't matter, it should just be used as a unique ID field. Required in your submission CSV. Not necessarily needed in the training set, but could be useful to simulate a 'submission file' while doing cross-validation within the training set.\n"
   ]
  },
  {
   "cell_type": "markdown",
   "metadata": {
    "_uuid": "88bf7bebad5b5462873f0e3740ef3598c4a2e557"
   },
   "source": [
    "# Features\n"
   ]
  },
  {
   "cell_type": "markdown",
   "metadata": {
    "_uuid": "be434d4833e1323e85917442a625792b3786692e"
   },
   "source": [
    "**pickup_datetime** - timestamp value indicating when the taxi ride started.\n"
   ]
  },
  {
   "cell_type": "markdown",
   "metadata": {
    "_uuid": "ea0b8c9691ee0771af6d7742bf77527c3e355719"
   },
   "source": [
    "**pickup_longitude** - float for longitude coordinate of where the taxi ride started.\n"
   ]
  },
  {
   "cell_type": "markdown",
   "metadata": {
    "_uuid": "f4e0684be7e633e73586fa5e601e4db1e21fb758"
   },
   "source": [
    "**pickup_latitude** - float for latitude coordinate of where the taxi ride started.\n"
   ]
  },
  {
   "cell_type": "markdown",
   "metadata": {
    "_uuid": "f890bc85ecc768815787555500abafc5f9d4d629"
   },
   "source": [
    "**dropoff_longitude** - float for longitude coordinate of where the taxi ride ended.\n"
   ]
  },
  {
   "cell_type": "markdown",
   "metadata": {
    "_uuid": "74262cd65ce88cceb3131c5cdbb6d86ab10e8506"
   },
   "source": [
    "**dropoff_latitude** - float for latitude coordinate of where the taxi ride ended.\n"
   ]
  },
  {
   "cell_type": "markdown",
   "metadata": {
    "_uuid": "2ab8debab14bcc46ce66e167d71fe4f05b39f540"
   },
   "source": [
    "**passenger_count** - integer indicating the number of passengers in the taxi ride.\n"
   ]
  },
  {
   "cell_type": "markdown",
   "metadata": {
    "_uuid": "5b2fdaaafa0a9164872ecbb0f0a5ef2ab30323b2"
   },
   "source": [
    "# Target\n"
   ]
  },
  {
   "cell_type": "markdown",
   "metadata": {
    "_uuid": "044c5d386887cb12dcbb51ae4f1a7dc1e20f7dc1"
   },
   "source": [
    "**fare_amount** - float dollar amount of the cost of the taxi ride. This value is only in the training set; this is what you are predicting in the test set and it is required in your submission CSV."
   ]
  },
  {
   "cell_type": "markdown",
   "metadata": {
    "_uuid": "e8f028880a785f11bf30859e32135f8b46c4350b"
   },
   "source": [
    "# 3) Select Framework(libraries)"
   ]
  },
  {
   "cell_type": "code",
   "execution_count": 1,
   "metadata": {
    "_uuid": "356677af33ee98f5eb5bcf99ab9c453c8fca9302"
   },
   "outputs": [],
   "source": [
    "import os\n",
    "import numpy as np#linear algebra   \n",
    "import pandas as pd #data preprocessing\n",
    "import seaborn as sns\n",
    "import matplotlib.pyplot as plt\n",
    "%matplotlib inline"
   ]
  },
  {
   "cell_type": "code",
   "execution_count": 2,
   "metadata": {
    "_uuid": "a5f9f18e625d411f5694c4461b451c6b76683985"
   },
   "outputs": [],
   "source": [
    "train =  pd.read_csv('../input/train.csv', nrows = 100000, parse_dates=[\"pickup_datetime\"])  # 55m rows,but we import 10m rows"
   ]
  },
  {
   "cell_type": "code",
   "execution_count": 3,
   "metadata": {
    "_uuid": "6137b989dd56209871c63c9a60313bd69616e98d"
   },
   "outputs": [],
   "source": [
    "test = pd.read_csv('../input/test.csv')   #10k rows "
   ]
  },
  {
   "cell_type": "code",
   "execution_count": 4,
   "metadata": {
    "_uuid": "0427168ce5bb0730162e37b0ccb0d67411861cde"
   },
   "outputs": [
    {
     "data": {
      "text/html": [
       "<div>\n",
       "<style scoped>\n",
       "    .dataframe tbody tr th:only-of-type {\n",
       "        vertical-align: middle;\n",
       "    }\n",
       "\n",
       "    .dataframe tbody tr th {\n",
       "        vertical-align: top;\n",
       "    }\n",
       "\n",
       "    .dataframe thead th {\n",
       "        text-align: right;\n",
       "    }\n",
       "</style>\n",
       "<table border=\"1\" class=\"dataframe\">\n",
       "  <thead>\n",
       "    <tr style=\"text-align: right;\">\n",
       "      <th></th>\n",
       "      <th>key</th>\n",
       "      <th>fare_amount</th>\n",
       "      <th>pickup_datetime</th>\n",
       "      <th>pickup_longitude</th>\n",
       "      <th>pickup_latitude</th>\n",
       "      <th>dropoff_longitude</th>\n",
       "      <th>dropoff_latitude</th>\n",
       "      <th>passenger_count</th>\n",
       "    </tr>\n",
       "  </thead>\n",
       "  <tbody>\n",
       "    <tr>\n",
       "      <th>0</th>\n",
       "      <td>2009-06-15 17:26:21.0000001</td>\n",
       "      <td>4.5</td>\n",
       "      <td>2009-06-15 17:26:21</td>\n",
       "      <td>-73.844311</td>\n",
       "      <td>40.721319</td>\n",
       "      <td>-73.841610</td>\n",
       "      <td>40.712278</td>\n",
       "      <td>1</td>\n",
       "    </tr>\n",
       "    <tr>\n",
       "      <th>1</th>\n",
       "      <td>2010-01-05 16:52:16.0000002</td>\n",
       "      <td>16.9</td>\n",
       "      <td>2010-01-05 16:52:16</td>\n",
       "      <td>-74.016048</td>\n",
       "      <td>40.711303</td>\n",
       "      <td>-73.979268</td>\n",
       "      <td>40.782004</td>\n",
       "      <td>1</td>\n",
       "    </tr>\n",
       "    <tr>\n",
       "      <th>2</th>\n",
       "      <td>2011-08-18 00:35:00.00000049</td>\n",
       "      <td>5.7</td>\n",
       "      <td>2011-08-18 00:35:00</td>\n",
       "      <td>-73.982738</td>\n",
       "      <td>40.761270</td>\n",
       "      <td>-73.991242</td>\n",
       "      <td>40.750562</td>\n",
       "      <td>2</td>\n",
       "    </tr>\n",
       "    <tr>\n",
       "      <th>3</th>\n",
       "      <td>2012-04-21 04:30:42.0000001</td>\n",
       "      <td>7.7</td>\n",
       "      <td>2012-04-21 04:30:42</td>\n",
       "      <td>-73.987130</td>\n",
       "      <td>40.733143</td>\n",
       "      <td>-73.991567</td>\n",
       "      <td>40.758092</td>\n",
       "      <td>1</td>\n",
       "    </tr>\n",
       "    <tr>\n",
       "      <th>4</th>\n",
       "      <td>2010-03-09 07:51:00.000000135</td>\n",
       "      <td>5.3</td>\n",
       "      <td>2010-03-09 07:51:00</td>\n",
       "      <td>-73.968095</td>\n",
       "      <td>40.768008</td>\n",
       "      <td>-73.956655</td>\n",
       "      <td>40.783762</td>\n",
       "      <td>1</td>\n",
       "    </tr>\n",
       "  </tbody>\n",
       "</table>\n",
       "</div>"
      ],
      "text/plain": [
       "                             key       ...         passenger_count\n",
       "0    2009-06-15 17:26:21.0000001       ...                       1\n",
       "1    2010-01-05 16:52:16.0000002       ...                       1\n",
       "2   2011-08-18 00:35:00.00000049       ...                       2\n",
       "3    2012-04-21 04:30:42.0000001       ...                       1\n",
       "4  2010-03-09 07:51:00.000000135       ...                       1\n",
       "\n",
       "[5 rows x 8 columns]"
      ]
     },
     "execution_count": 4,
     "metadata": {},
     "output_type": "execute_result"
    }
   ],
   "source": [
    "train.head()  # first 5 record of train "
   ]
  },
  {
   "cell_type": "markdown",
   "metadata": {
    "_uuid": "04853bb3c3896ba09cf145d7542d1ef7ece88ad9"
   },
   "source": [
    "# 4) EDA(Exploratery Data Analysis)"
   ]
  },
  {
   "cell_type": "markdown",
   "metadata": {
    "_uuid": "7bf0ed4b279a9eab7f7f280be533e553d398c01c"
   },
   "source": [
    "#  Data collection"
   ]
  },
  {
   "cell_type": "code",
   "execution_count": 5,
   "metadata": {
    "_uuid": "4f56f6a9fea2dba42b2a38a792bf4afbe2077570"
   },
   "outputs": [
    {
     "data": {
      "text/html": [
       "<div>\n",
       "<style scoped>\n",
       "    .dataframe tbody tr th:only-of-type {\n",
       "        vertical-align: middle;\n",
       "    }\n",
       "\n",
       "    .dataframe tbody tr th {\n",
       "        vertical-align: top;\n",
       "    }\n",
       "\n",
       "    .dataframe thead th {\n",
       "        text-align: right;\n",
       "    }\n",
       "</style>\n",
       "<table border=\"1\" class=\"dataframe\">\n",
       "  <thead>\n",
       "    <tr style=\"text-align: right;\">\n",
       "      <th></th>\n",
       "      <th>fare_amount</th>\n",
       "      <th>pickup_longitude</th>\n",
       "      <th>pickup_latitude</th>\n",
       "      <th>dropoff_longitude</th>\n",
       "      <th>dropoff_latitude</th>\n",
       "      <th>passenger_count</th>\n",
       "    </tr>\n",
       "  </thead>\n",
       "  <tbody>\n",
       "    <tr>\n",
       "      <th>count</th>\n",
       "      <td>100000.000000</td>\n",
       "      <td>100000.000000</td>\n",
       "      <td>100000.000000</td>\n",
       "      <td>100000.000000</td>\n",
       "      <td>100000.000000</td>\n",
       "      <td>100000.000000</td>\n",
       "    </tr>\n",
       "    <tr>\n",
       "      <th>mean</th>\n",
       "      <td>11.354652</td>\n",
       "      <td>-72.494682</td>\n",
       "      <td>39.914481</td>\n",
       "      <td>-72.490967</td>\n",
       "      <td>39.919053</td>\n",
       "      <td>1.673820</td>\n",
       "    </tr>\n",
       "    <tr>\n",
       "      <th>std</th>\n",
       "      <td>9.716777</td>\n",
       "      <td>10.693934</td>\n",
       "      <td>6.225686</td>\n",
       "      <td>10.471386</td>\n",
       "      <td>6.213427</td>\n",
       "      <td>1.300171</td>\n",
       "    </tr>\n",
       "    <tr>\n",
       "      <th>min</th>\n",
       "      <td>-44.900000</td>\n",
       "      <td>-736.550000</td>\n",
       "      <td>-74.007670</td>\n",
       "      <td>-84.654241</td>\n",
       "      <td>-74.006377</td>\n",
       "      <td>0.000000</td>\n",
       "    </tr>\n",
       "    <tr>\n",
       "      <th>25%</th>\n",
       "      <td>6.000000</td>\n",
       "      <td>-73.992041</td>\n",
       "      <td>40.734996</td>\n",
       "      <td>-73.991215</td>\n",
       "      <td>40.734182</td>\n",
       "      <td>1.000000</td>\n",
       "    </tr>\n",
       "    <tr>\n",
       "      <th>50%</th>\n",
       "      <td>8.500000</td>\n",
       "      <td>-73.981789</td>\n",
       "      <td>40.752765</td>\n",
       "      <td>-73.980000</td>\n",
       "      <td>40.753243</td>\n",
       "      <td>1.000000</td>\n",
       "    </tr>\n",
       "    <tr>\n",
       "      <th>75%</th>\n",
       "      <td>12.500000</td>\n",
       "      <td>-73.966982</td>\n",
       "      <td>40.767258</td>\n",
       "      <td>-73.963433</td>\n",
       "      <td>40.768166</td>\n",
       "      <td>2.000000</td>\n",
       "    </tr>\n",
       "    <tr>\n",
       "      <th>max</th>\n",
       "      <td>200.000000</td>\n",
       "      <td>40.787575</td>\n",
       "      <td>401.083332</td>\n",
       "      <td>40.851027</td>\n",
       "      <td>404.616667</td>\n",
       "      <td>6.000000</td>\n",
       "    </tr>\n",
       "  </tbody>\n",
       "</table>\n",
       "</div>"
      ],
      "text/plain": [
       "         fare_amount       ...         passenger_count\n",
       "count  100000.000000       ...           100000.000000\n",
       "mean       11.354652       ...                1.673820\n",
       "std         9.716777       ...                1.300171\n",
       "min       -44.900000       ...                0.000000\n",
       "25%         6.000000       ...                1.000000\n",
       "50%         8.500000       ...                1.000000\n",
       "75%        12.500000       ...                2.000000\n",
       "max       200.000000       ...                6.000000\n",
       "\n",
       "[8 rows x 6 columns]"
      ]
     },
     "execution_count": 5,
     "metadata": {},
     "output_type": "execute_result"
    }
   ],
   "source": [
    "train.describe() "
   ]
  },
  {
   "cell_type": "code",
   "execution_count": 6,
   "metadata": {
    "_uuid": "64ef511fef9cfb5e6a6dc859a7a603ad16107b01"
   },
   "outputs": [
    {
     "data": {
      "text/plain": [
       "Index(['key', 'fare_amount', 'pickup_datetime', 'pickup_longitude',\n",
       "       'pickup_latitude', 'dropoff_longitude', 'dropoff_latitude',\n",
       "       'passenger_count'],\n",
       "      dtype='object')"
      ]
     },
     "execution_count": 6,
     "metadata": {},
     "output_type": "execute_result"
    }
   ],
   "source": [
    "train.columns"
   ]
  },
  {
   "cell_type": "code",
   "execution_count": 7,
   "metadata": {
    "_uuid": "0ed233b9bb01826e1c2ecfb09a358c12103ed27b",
    "scrolled": true
   },
   "outputs": [
    {
     "name": "stdout",
     "output_type": "stream",
     "text": [
      "<class 'pandas.core.frame.DataFrame'>\n",
      "RangeIndex: 100000 entries, 0 to 99999\n",
      "Data columns (total 8 columns):\n",
      "key                  100000 non-null object\n",
      "fare_amount          100000 non-null float64\n",
      "pickup_datetime      100000 non-null datetime64[ns]\n",
      "pickup_longitude     100000 non-null float64\n",
      "pickup_latitude      100000 non-null float64\n",
      "dropoff_longitude    100000 non-null float64\n",
      "dropoff_latitude     100000 non-null float64\n",
      "passenger_count      100000 non-null int64\n",
      "dtypes: datetime64[ns](1), float64(5), int64(1), object(1)\n",
      "memory usage: 6.1+ MB\n"
     ]
    }
   ],
   "source": [
    "train.info()"
   ]
  },
  {
   "cell_type": "markdown",
   "metadata": {
    "_uuid": "414ff3806dcbec852805f81f614591539fde5a3a"
   },
   "source": [
    "train  has total 8 column in that   5 float64 values, 1 int value , 1 object ,and 1  datetime64 . "
   ]
  },
  {
   "cell_type": "markdown",
   "metadata": {},
   "source": [
    "# Data Preprocessing & Data cleaning"
   ]
  },
  {
   "cell_type": "code",
   "execution_count": 8,
   "metadata": {
    "_uuid": "ed8d49bfbb79e93189d4258a3c67cc3a3f087fe2"
   },
   "outputs": [
    {
     "name": "stdout",
     "output_type": "stream",
     "text": [
      "key                  0\n",
      "fare_amount          0\n",
      "pickup_datetime      0\n",
      "pickup_longitude     0\n",
      "pickup_latitude      0\n",
      "dropoff_longitude    0\n",
      "dropoff_latitude     0\n",
      "passenger_count      0\n",
      "dtype: int64\n"
     ]
    }
   ],
   "source": [
    "print(train.isnull().sum())  # check anu null value is available or not .\n"
   ]
  },
  {
   "cell_type": "code",
   "execution_count": 9,
   "metadata": {
    "_uuid": "c8a90c58e4b818827d1460c363ada6c598dd0a22",
    "scrolled": true
   },
   "outputs": [
    {
     "name": "stdout",
     "output_type": "stream",
     "text": [
      "Old size: 100000\n",
      "New size: 100000\n"
     ]
    }
   ],
   "source": [
    "print('Old size: %d' % len(train))\n",
    "train = train.dropna(how = 'any', axis = 'rows')\n",
    "print('New size: %d' % len(train))\n",
    "# if gives 20million data then NaN values comes."
   ]
  },
  {
   "cell_type": "code",
   "execution_count": 10,
   "metadata": {
    "_uuid": "85e5e1423df6ce2391a5f3f42332f246dcd65e39"
   },
   "outputs": [
    {
     "name": "stdout",
     "output_type": "stream",
     "text": [
      "key                  0\n",
      "fare_amount          0\n",
      "pickup_datetime      0\n",
      "pickup_longitude     0\n",
      "pickup_latitude      0\n",
      "dropoff_longitude    0\n",
      "dropoff_latitude     0\n",
      "passenger_count      0\n",
      "dtype: int64\n"
     ]
    }
   ],
   "source": [
    "print(train.isnull().sum())\n"
   ]
  },
  {
   "cell_type": "code",
   "execution_count": 11,
   "metadata": {
    "_uuid": "579375b7ac8c020519124963cc1cfbc3c7713a72"
   },
   "outputs": [
    {
     "name": "stderr",
     "output_type": "stream",
     "text": [
      "/opt/conda/lib/python3.6/site-packages/scipy/stats/stats.py:1713: FutureWarning: Using a non-tuple sequence for multidimensional indexing is deprecated; use `arr[tuple(seq)]` instead of `arr[seq]`. In the future this will be interpreted as an array index, `arr[np.array(seq)]`, which will result either in an error or a different result.\n",
      "  return np.add.reduce(sorted[indexer] * weights, axis=axis) / sumval\n"
     ]
    },
    {
     "data": {
      "image/png": "[encoded data removed]",
      "text/plain": [
       "<Figure size 432x288 with 1 Axes>"
      ]
     },
     "metadata": {},
     "output_type": "display_data"
    }
   ],
   "source": [
    "sns.distplot(train['fare_amount']);"
   ]
  },
  {
   "cell_type": "markdown",
   "metadata": {},
   "source": [
    "in between 0-50 there are 95% 'fare_amount' located."
   ]
  },
  {
   "cell_type": "code",
   "execution_count": 12,
   "metadata": {
    "_uuid": "8b41df1d4e4934db987244846d8ebb1a33402c99"
   },
   "outputs": [
    {
     "data": {
      "text/plain": [
       "(9, 8)"
      ]
     },
     "execution_count": 12,
     "metadata": {},
     "output_type": "execute_result"
    }
   ],
   "source": [
    "train.loc[train['fare_amount']<0].shape"
   ]
  },
  {
   "cell_type": "markdown",
   "metadata": {
    "_uuid": "8e09bccf267c8f492318aa90cad3f6c6c7275cd1"
   },
   "source": [
    "There are 9 records with negative fare, we will remove these record from the data."
   ]
  },
  {
   "cell_type": "markdown",
   "metadata": {
    "_uuid": "1d2edefad1433a219f488bf0de9d6a87565e589f"
   },
   "source": [
    "there are lots of cases where lat and longitude is 0 , check how many such cases are?"
   ]
  },
  {
   "cell_type": "code",
   "execution_count": 13,
   "metadata": {
    "_uuid": "f04187a6b0e3bdaae0fce324ff39cfd022d1d93e"
   },
   "outputs": [
    {
     "data": {
      "text/plain": [
       "(1918, 8)"
      ]
     },
     "execution_count": 13,
     "metadata": {},
     "output_type": "execute_result"
    }
   ],
   "source": [
    "train[(train.pickup_latitude==0) | (train.pickup_longitude)==0 | (train.dropoff_latitude==0) | (train.dropoff_longitude==0)].shape"
   ]
  },
  {
   "cell_type": "markdown",
   "metadata": {},
   "source": [
    "1918 values are** 0 in train.\n",
    "Based on just look at the data, we can see that its not 100% clean and\n",
    "some entries will contribute to higher error rates. "
   ]
  },
  {
   "cell_type": "code",
   "execution_count": 14,
   "metadata": {
    "_uuid": "b206d5e782a4f3fd0f2cba2c26663eca73383530"
   },
   "outputs": [
    {
     "name": "stderr",
     "output_type": "stream",
     "text": [
      "/opt/conda/lib/python3.6/site-packages/scipy/stats/stats.py:1713: FutureWarning: Using a non-tuple sequence for multidimensional indexing is deprecated; use `arr[tuple(seq)]` instead of `arr[seq]`. In the future this will be interpreted as an array index, `arr[np.array(seq)]`, which will result either in an error or a different result.\n",
      "  return np.add.reduce(sorted[indexer] * weights, axis=axis) / sumval\n"
     ]
    },
    {
     "data": {
      "text/plain": [
       "<matplotlib.axes._subplots.AxesSubplot at 0x7f9c610006d8>"
      ]
     },
     "execution_count": 14,
     "metadata": {},
     "output_type": "execute_result"
    },
    {
     "data": {
      "image/png": "[encoded data removed]",
      "text/plain": [
       "<Figure size 432x288 with 1 Axes>"
      ]
     },
     "metadata": {},
     "output_type": "display_data"
    }
   ],
   "source": [
    "sns.distplot(train['passenger_count'])"
   ]
  },
  {
   "cell_type": "code",
   "execution_count": 15,
   "metadata": {
    "_uuid": "8193b4a15c634360ff01f70f86a2b3711b3ed5f2"
   },
   "outputs": [
    {
     "data": {
      "text/html": [
       "<div>\n",
       "<style scoped>\n",
       "    .dataframe tbody tr th:only-of-type {\n",
       "        vertical-align: middle;\n",
       "    }\n",
       "\n",
       "    .dataframe tbody tr th {\n",
       "        vertical-align: top;\n",
       "    }\n",
       "\n",
       "    .dataframe thead th {\n",
       "        text-align: right;\n",
       "    }\n",
       "</style>\n",
       "<table border=\"1\" class=\"dataframe\">\n",
       "  <thead>\n",
       "    <tr style=\"text-align: right;\">\n",
       "      <th></th>\n",
       "      <th>fare_amount</th>\n",
       "      <th>pickup_longitude</th>\n",
       "      <th>pickup_latitude</th>\n",
       "      <th>dropoff_longitude</th>\n",
       "      <th>dropoff_latitude</th>\n",
       "      <th>passenger_count</th>\n",
       "    </tr>\n",
       "  </thead>\n",
       "  <tbody>\n",
       "    <tr>\n",
       "      <th>count</th>\n",
       "      <td>100000.000000</td>\n",
       "      <td>100000.000000</td>\n",
       "      <td>100000.000000</td>\n",
       "      <td>100000.000000</td>\n",
       "      <td>100000.000000</td>\n",
       "      <td>100000.000000</td>\n",
       "    </tr>\n",
       "    <tr>\n",
       "      <th>mean</th>\n",
       "      <td>11.354652</td>\n",
       "      <td>-72.494682</td>\n",
       "      <td>39.914481</td>\n",
       "      <td>-72.490967</td>\n",
       "      <td>39.919053</td>\n",
       "      <td>1.673820</td>\n",
       "    </tr>\n",
       "    <tr>\n",
       "      <th>std</th>\n",
       "      <td>9.716777</td>\n",
       "      <td>10.693934</td>\n",
       "      <td>6.225686</td>\n",
       "      <td>10.471386</td>\n",
       "      <td>6.213427</td>\n",
       "      <td>1.300171</td>\n",
       "    </tr>\n",
       "    <tr>\n",
       "      <th>min</th>\n",
       "      <td>-44.900000</td>\n",
       "      <td>-736.550000</td>\n",
       "      <td>-74.007670</td>\n",
       "      <td>-84.654241</td>\n",
       "      <td>-74.006377</td>\n",
       "      <td>0.000000</td>\n",
       "    </tr>\n",
       "    <tr>\n",
       "      <th>25%</th>\n",
       "      <td>6.000000</td>\n",
       "      <td>-73.992041</td>\n",
       "      <td>40.734996</td>\n",
       "      <td>-73.991215</td>\n",
       "      <td>40.734182</td>\n",
       "      <td>1.000000</td>\n",
       "    </tr>\n",
       "    <tr>\n",
       "      <th>50%</th>\n",
       "      <td>8.500000</td>\n",
       "      <td>-73.981789</td>\n",
       "      <td>40.752765</td>\n",
       "      <td>-73.980000</td>\n",
       "      <td>40.753243</td>\n",
       "      <td>1.000000</td>\n",
       "    </tr>\n",
       "    <tr>\n",
       "      <th>75%</th>\n",
       "      <td>12.500000</td>\n",
       "      <td>-73.966982</td>\n",
       "      <td>40.767258</td>\n",
       "      <td>-73.963433</td>\n",
       "      <td>40.768166</td>\n",
       "      <td>2.000000</td>\n",
       "    </tr>\n",
       "    <tr>\n",
       "      <th>max</th>\n",
       "      <td>200.000000</td>\n",
       "      <td>40.787575</td>\n",
       "      <td>401.083332</td>\n",
       "      <td>40.851027</td>\n",
       "      <td>404.616667</td>\n",
       "      <td>6.000000</td>\n",
       "    </tr>\n",
       "  </tbody>\n",
       "</table>\n",
       "</div>"
      ],
      "text/plain": [
       "         fare_amount       ...         passenger_count\n",
       "count  100000.000000       ...           100000.000000\n",
       "mean       11.354652       ...                1.673820\n",
       "std         9.716777       ...                1.300171\n",
       "min       -44.900000       ...                0.000000\n",
       "25%         6.000000       ...                1.000000\n",
       "50%         8.500000       ...                1.000000\n",
       "75%        12.500000       ...                2.000000\n",
       "max       200.000000       ...                6.000000\n",
       "\n",
       "[8 rows x 6 columns]"
      ]
     },
     "execution_count": 15,
     "metadata": {},
     "output_type": "execute_result"
    }
   ],
   "source": [
    "train.describe()"
   ]
  },
  {
   "cell_type": "code",
   "execution_count": 16,
   "metadata": {
    "_uuid": "81871f6a63801dd2dd1b16f3c10992bcdde424e7"
   },
   "outputs": [],
   "source": [
    "#clean up the train dataset to eliminate out of range values\n",
    "train = train[train['fare_amount'] > 0]\n",
    "train = train[train['pickup_longitude'] < -72]\n",
    "train = train[(train['pickup_latitude'] > 40) &(train\n",
    "                                               ['pickup_latitude'] < 44)]\n",
    "train = train[train['dropoff_longitude'] < -72]\n",
    "train = train[(train['dropoff_latitude'] >40) & (train\n",
    "                                                ['dropoff_latitude'] < 44)]\n",
    "train = train[(train['passenger_count']>0) &(train['passenger_count'] < 10)]"
   ]
  },
  {
   "cell_type": "markdown",
   "metadata": {
    "_uuid": "f4ce0b73d807c475074b5ec8fae076536a6663db"
   },
   "source": [
    "Now we can see there are no obvious inconstitencies with the data."
   ]
  },
  {
   "cell_type": "code",
   "execution_count": 17,
   "metadata": {
    "_uuid": "c09cc29cbe5bd5f9b81860d4abe8c40a1d189a0f"
   },
   "outputs": [
    {
     "data": {
      "text/html": [
       "<div>\n",
       "<style scoped>\n",
       "    .dataframe tbody tr th:only-of-type {\n",
       "        vertical-align: middle;\n",
       "    }\n",
       "\n",
       "    .dataframe tbody tr th {\n",
       "        vertical-align: top;\n",
       "    }\n",
       "\n",
       "    .dataframe thead th {\n",
       "        text-align: right;\n",
       "    }\n",
       "</style>\n",
       "<table border=\"1\" class=\"dataframe\">\n",
       "  <thead>\n",
       "    <tr style=\"text-align: right;\">\n",
       "      <th></th>\n",
       "      <th>fare_amount</th>\n",
       "      <th>pickup_longitude</th>\n",
       "      <th>pickup_latitude</th>\n",
       "      <th>dropoff_longitude</th>\n",
       "      <th>dropoff_latitude</th>\n",
       "      <th>passenger_count</th>\n",
       "    </tr>\n",
       "  </thead>\n",
       "  <tbody>\n",
       "    <tr>\n",
       "      <th>count</th>\n",
       "      <td>97532.000000</td>\n",
       "      <td>97532.000000</td>\n",
       "      <td>97532.000000</td>\n",
       "      <td>97532.000000</td>\n",
       "      <td>97532.000000</td>\n",
       "      <td>97532.000000</td>\n",
       "    </tr>\n",
       "    <tr>\n",
       "      <th>mean</th>\n",
       "      <td>11.353151</td>\n",
       "      <td>-73.981994</td>\n",
       "      <td>40.751212</td>\n",
       "      <td>-73.974020</td>\n",
       "      <td>40.751592</td>\n",
       "      <td>1.680495</td>\n",
       "    </tr>\n",
       "    <tr>\n",
       "      <th>std</th>\n",
       "      <td>9.697156</td>\n",
       "      <td>2.122039</td>\n",
       "      <td>0.033016</td>\n",
       "      <td>0.039668</td>\n",
       "      <td>0.035153</td>\n",
       "      <td>1.298620</td>\n",
       "    </tr>\n",
       "    <tr>\n",
       "      <th>min</th>\n",
       "      <td>0.010000</td>\n",
       "      <td>-736.550000</td>\n",
       "      <td>40.121653</td>\n",
       "      <td>-75.354559</td>\n",
       "      <td>40.164927</td>\n",
       "      <td>1.000000</td>\n",
       "    </tr>\n",
       "    <tr>\n",
       "      <th>25%</th>\n",
       "      <td>6.000000</td>\n",
       "      <td>-73.992268</td>\n",
       "      <td>40.736653</td>\n",
       "      <td>-73.991397</td>\n",
       "      <td>40.735770</td>\n",
       "      <td>1.000000</td>\n",
       "    </tr>\n",
       "    <tr>\n",
       "      <th>50%</th>\n",
       "      <td>8.500000</td>\n",
       "      <td>-73.982077</td>\n",
       "      <td>40.753536</td>\n",
       "      <td>-73.980438</td>\n",
       "      <td>40.753965</td>\n",
       "      <td>1.000000</td>\n",
       "    </tr>\n",
       "    <tr>\n",
       "      <th>75%</th>\n",
       "      <td>12.500000</td>\n",
       "      <td>-73.968291</td>\n",
       "      <td>40.767685</td>\n",
       "      <td>-73.965135</td>\n",
       "      <td>40.768478</td>\n",
       "      <td>2.000000</td>\n",
       "    </tr>\n",
       "    <tr>\n",
       "      <th>max</th>\n",
       "      <td>200.000000</td>\n",
       "      <td>-72.856968</td>\n",
       "      <td>43.183332</td>\n",
       "      <td>-72.854940</td>\n",
       "      <td>43.415190</td>\n",
       "      <td>6.000000</td>\n",
       "    </tr>\n",
       "  </tbody>\n",
       "</table>\n",
       "</div>"
      ],
      "text/plain": [
       "        fare_amount       ...         passenger_count\n",
       "count  97532.000000       ...            97532.000000\n",
       "mean      11.353151       ...                1.680495\n",
       "std        9.697156       ...                1.298620\n",
       "min        0.010000       ...                1.000000\n",
       "25%        6.000000       ...                1.000000\n",
       "50%        8.500000       ...                1.000000\n",
       "75%       12.500000       ...                2.000000\n",
       "max      200.000000       ...                6.000000\n",
       "\n",
       "[8 rows x 6 columns]"
      ]
     },
     "execution_count": 17,
     "metadata": {},
     "output_type": "execute_result"
    }
   ],
   "source": [
    " train.describe()"
   ]
  },
  {
   "cell_type": "markdown",
   "metadata": {},
   "source": [
    "#  Same operation perform on 'test'"
   ]
  },
  {
   "cell_type": "code",
   "execution_count": 18,
   "metadata": {},
   "outputs": [
    {
     "data": {
      "text/html": [
       "<div>\n",
       "<style scoped>\n",
       "    .dataframe tbody tr th:only-of-type {\n",
       "        vertical-align: middle;\n",
       "    }\n",
       "\n",
       "    .dataframe tbody tr th {\n",
       "        vertical-align: top;\n",
       "    }\n",
       "\n",
       "    .dataframe thead th {\n",
       "        text-align: right;\n",
       "    }\n",
       "</style>\n",
       "<table border=\"1\" class=\"dataframe\">\n",
       "  <thead>\n",
       "    <tr style=\"text-align: right;\">\n",
       "      <th></th>\n",
       "      <th>key</th>\n",
       "      <th>pickup_datetime</th>\n",
       "      <th>pickup_longitude</th>\n",
       "      <th>pickup_latitude</th>\n",
       "      <th>dropoff_longitude</th>\n",
       "      <th>dropoff_latitude</th>\n",
       "      <th>passenger_count</th>\n",
       "    </tr>\n",
       "  </thead>\n",
       "  <tbody>\n",
       "    <tr>\n",
       "      <th>0</th>\n",
       "      <td>2015-01-27 13:08:24.0000002</td>\n",
       "      <td>2015-01-27 13:08:24 UTC</td>\n",
       "      <td>-73.973320</td>\n",
       "      <td>40.763805</td>\n",
       "      <td>-73.981430</td>\n",
       "      <td>40.743835</td>\n",
       "      <td>1</td>\n",
       "    </tr>\n",
       "    <tr>\n",
       "      <th>1</th>\n",
       "      <td>2015-01-27 13:08:24.0000003</td>\n",
       "      <td>2015-01-27 13:08:24 UTC</td>\n",
       "      <td>-73.986862</td>\n",
       "      <td>40.719383</td>\n",
       "      <td>-73.998886</td>\n",
       "      <td>40.739201</td>\n",
       "      <td>1</td>\n",
       "    </tr>\n",
       "    <tr>\n",
       "      <th>2</th>\n",
       "      <td>2011-10-08 11:53:44.0000002</td>\n",
       "      <td>2011-10-08 11:53:44 UTC</td>\n",
       "      <td>-73.982524</td>\n",
       "      <td>40.751260</td>\n",
       "      <td>-73.979654</td>\n",
       "      <td>40.746139</td>\n",
       "      <td>1</td>\n",
       "    </tr>\n",
       "    <tr>\n",
       "      <th>3</th>\n",
       "      <td>2012-12-01 21:12:12.0000002</td>\n",
       "      <td>2012-12-01 21:12:12 UTC</td>\n",
       "      <td>-73.981160</td>\n",
       "      <td>40.767807</td>\n",
       "      <td>-73.990448</td>\n",
       "      <td>40.751635</td>\n",
       "      <td>1</td>\n",
       "    </tr>\n",
       "    <tr>\n",
       "      <th>4</th>\n",
       "      <td>2012-12-01 21:12:12.0000003</td>\n",
       "      <td>2012-12-01 21:12:12 UTC</td>\n",
       "      <td>-73.966046</td>\n",
       "      <td>40.789775</td>\n",
       "      <td>-73.988565</td>\n",
       "      <td>40.744427</td>\n",
       "      <td>1</td>\n",
       "    </tr>\n",
       "  </tbody>\n",
       "</table>\n",
       "</div>"
      ],
      "text/plain": [
       "                           key       ...       passenger_count\n",
       "0  2015-01-27 13:08:24.0000002       ...                     1\n",
       "1  2015-01-27 13:08:24.0000003       ...                     1\n",
       "2  2011-10-08 11:53:44.0000002       ...                     1\n",
       "3  2012-12-01 21:12:12.0000002       ...                     1\n",
       "4  2012-12-01 21:12:12.0000003       ...                     1\n",
       "\n",
       "[5 rows x 7 columns]"
      ]
     },
     "execution_count": 18,
     "metadata": {},
     "output_type": "execute_result"
    }
   ],
   "source": [
    "test.head()  # first 5 record of test "
   ]
  },
  {
   "cell_type": "code",
   "execution_count": 19,
   "metadata": {},
   "outputs": [
    {
     "data": {
      "text/html": [
       "<div>\n",
       "<style scoped>\n",
       "    .dataframe tbody tr th:only-of-type {\n",
       "        vertical-align: middle;\n",
       "    }\n",
       "\n",
       "    .dataframe tbody tr th {\n",
       "        vertical-align: top;\n",
       "    }\n",
       "\n",
       "    .dataframe thead th {\n",
       "        text-align: right;\n",
       "    }\n",
       "</style>\n",
       "<table border=\"1\" class=\"dataframe\">\n",
       "  <thead>\n",
       "    <tr style=\"text-align: right;\">\n",
       "      <th></th>\n",
       "      <th>pickup_longitude</th>\n",
       "      <th>pickup_latitude</th>\n",
       "      <th>dropoff_longitude</th>\n",
       "      <th>dropoff_latitude</th>\n",
       "      <th>passenger_count</th>\n",
       "    </tr>\n",
       "  </thead>\n",
       "  <tbody>\n",
       "    <tr>\n",
       "      <th>count</th>\n",
       "      <td>9914.000000</td>\n",
       "      <td>9914.000000</td>\n",
       "      <td>9914.000000</td>\n",
       "      <td>9914.000000</td>\n",
       "      <td>9914.000000</td>\n",
       "    </tr>\n",
       "    <tr>\n",
       "      <th>mean</th>\n",
       "      <td>-73.974722</td>\n",
       "      <td>40.751041</td>\n",
       "      <td>-73.973657</td>\n",
       "      <td>40.751743</td>\n",
       "      <td>1.671273</td>\n",
       "    </tr>\n",
       "    <tr>\n",
       "      <th>std</th>\n",
       "      <td>0.042774</td>\n",
       "      <td>0.033541</td>\n",
       "      <td>0.039072</td>\n",
       "      <td>0.035435</td>\n",
       "      <td>1.278747</td>\n",
       "    </tr>\n",
       "    <tr>\n",
       "      <th>min</th>\n",
       "      <td>-74.252193</td>\n",
       "      <td>40.573143</td>\n",
       "      <td>-74.263242</td>\n",
       "      <td>40.568973</td>\n",
       "      <td>1.000000</td>\n",
       "    </tr>\n",
       "    <tr>\n",
       "      <th>25%</th>\n",
       "      <td>-73.992501</td>\n",
       "      <td>40.736125</td>\n",
       "      <td>-73.991247</td>\n",
       "      <td>40.735254</td>\n",
       "      <td>1.000000</td>\n",
       "    </tr>\n",
       "    <tr>\n",
       "      <th>50%</th>\n",
       "      <td>-73.982326</td>\n",
       "      <td>40.753051</td>\n",
       "      <td>-73.980015</td>\n",
       "      <td>40.754065</td>\n",
       "      <td>1.000000</td>\n",
       "    </tr>\n",
       "    <tr>\n",
       "      <th>75%</th>\n",
       "      <td>-73.968013</td>\n",
       "      <td>40.767113</td>\n",
       "      <td>-73.964059</td>\n",
       "      <td>40.768757</td>\n",
       "      <td>2.000000</td>\n",
       "    </tr>\n",
       "    <tr>\n",
       "      <th>max</th>\n",
       "      <td>-72.986532</td>\n",
       "      <td>41.709555</td>\n",
       "      <td>-72.990963</td>\n",
       "      <td>41.696683</td>\n",
       "      <td>6.000000</td>\n",
       "    </tr>\n",
       "  </tbody>\n",
       "</table>\n",
       "</div>"
      ],
      "text/plain": [
       "       pickup_longitude       ...         passenger_count\n",
       "count       9914.000000       ...             9914.000000\n",
       "mean         -73.974722       ...                1.671273\n",
       "std            0.042774       ...                1.278747\n",
       "min          -74.252193       ...                1.000000\n",
       "25%          -73.992501       ...                1.000000\n",
       "50%          -73.982326       ...                1.000000\n",
       "75%          -73.968013       ...                2.000000\n",
       "max          -72.986532       ...                6.000000\n",
       "\n",
       "[8 rows x 5 columns]"
      ]
     },
     "execution_count": 19,
     "metadata": {},
     "output_type": "execute_result"
    }
   ],
   "source": [
    "test.describe()"
   ]
  },
  {
   "cell_type": "code",
   "execution_count": 20,
   "metadata": {},
   "outputs": [
    {
     "name": "stdout",
     "output_type": "stream",
     "text": [
      "<class 'pandas.core.frame.DataFrame'>\n",
      "RangeIndex: 9914 entries, 0 to 9913\n",
      "Data columns (total 7 columns):\n",
      "key                  9914 non-null object\n",
      "pickup_datetime      9914 non-null object\n",
      "pickup_longitude     9914 non-null float64\n",
      "pickup_latitude      9914 non-null float64\n",
      "dropoff_longitude    9914 non-null float64\n",
      "dropoff_latitude     9914 non-null float64\n",
      "passenger_count      9914 non-null int64\n",
      "dtypes: float64(4), int64(1), object(2)\n",
      "memory usage: 542.2+ KB\n"
     ]
    }
   ],
   "source": [
    "test.info()"
   ]
  },
  {
   "cell_type": "code",
   "execution_count": 21,
   "metadata": {},
   "outputs": [
    {
     "name": "stdout",
     "output_type": "stream",
     "text": [
      "key                  0\n",
      "pickup_datetime      0\n",
      "pickup_longitude     0\n",
      "pickup_latitude      0\n",
      "dropoff_longitude    0\n",
      "dropoff_latitude     0\n",
      "passenger_count      0\n",
      "dtype: int64\n"
     ]
    }
   ],
   "source": [
    "print(test.isnull().sum())"
   ]
  },
  {
   "cell_type": "code",
   "execution_count": 22,
   "metadata": {},
   "outputs": [
    {
     "data": {
      "text/plain": [
       "(0, 7)"
      ]
     },
     "execution_count": 22,
     "metadata": {},
     "output_type": "execute_result"
    }
   ],
   "source": [
    "test[(test.pickup_latitude==0) | (test.pickup_longitude)==0 | (test.dropoff_latitude==0) | (test.dropoff_longitude==0)].shape\n"
   ]
  },
  {
   "cell_type": "code",
   "execution_count": 23,
   "metadata": {},
   "outputs": [
    {
     "name": "stdout",
     "output_type": "stream",
     "text": [
      "key                  0\n",
      "pickup_datetime      0\n",
      "pickup_longitude     0\n",
      "pickup_latitude      0\n",
      "dropoff_longitude    0\n",
      "dropoff_latitude     0\n",
      "passenger_count      0\n",
      "dtype: int64\n"
     ]
    }
   ],
   "source": [
    "print(test.isnull().sum())\n"
   ]
  },
  {
   "cell_type": "code",
   "execution_count": 24,
   "metadata": {},
   "outputs": [
    {
     "name": "stdout",
     "output_type": "stream",
     "text": [
      "Old size: 9914\n",
      "New size: 9914\n"
     ]
    }
   ],
   "source": [
    "print('Old size: %d' % len(test))\n",
    "test = test.dropna(how = 'any', axis = 'rows')\n",
    "print('New size: %d' % len(test))"
   ]
  },
  {
   "cell_type": "code",
   "execution_count": 25,
   "metadata": {},
   "outputs": [
    {
     "name": "stderr",
     "output_type": "stream",
     "text": [
      "/opt/conda/lib/python3.6/site-packages/ipykernel_launcher.py:4: UserWarning: Boolean Series key will be reindexed to match DataFrame index.\n",
      "  after removing the cwd from sys.path.\n",
      "/opt/conda/lib/python3.6/site-packages/ipykernel_launcher.py:7: UserWarning: Boolean Series key will be reindexed to match DataFrame index.\n",
      "  import sys\n",
      "/opt/conda/lib/python3.6/site-packages/ipykernel_launcher.py:8: UserWarning: Boolean Series key will be reindexed to match DataFrame index.\n",
      "  \n"
     ]
    },
    {
     "data": {
      "text/html": [
       "<div>\n",
       "<style scoped>\n",
       "    .dataframe tbody tr th:only-of-type {\n",
       "        vertical-align: middle;\n",
       "    }\n",
       "\n",
       "    .dataframe tbody tr th {\n",
       "        vertical-align: top;\n",
       "    }\n",
       "\n",
       "    .dataframe thead th {\n",
       "        text-align: right;\n",
       "    }\n",
       "</style>\n",
       "<table border=\"1\" class=\"dataframe\">\n",
       "  <thead>\n",
       "    <tr style=\"text-align: right;\">\n",
       "      <th></th>\n",
       "      <th>key</th>\n",
       "      <th>fare_amount</th>\n",
       "      <th>pickup_datetime</th>\n",
       "      <th>pickup_longitude</th>\n",
       "      <th>pickup_latitude</th>\n",
       "      <th>dropoff_longitude</th>\n",
       "      <th>dropoff_latitude</th>\n",
       "      <th>passenger_count</th>\n",
       "    </tr>\n",
       "  </thead>\n",
       "  <tbody>\n",
       "    <tr>\n",
       "      <th>0</th>\n",
       "      <td>2009-06-15 17:26:21.0000001</td>\n",
       "      <td>4.5</td>\n",
       "      <td>2009-06-15 17:26:21</td>\n",
       "      <td>-73.844311</td>\n",
       "      <td>40.721319</td>\n",
       "      <td>-73.841610</td>\n",
       "      <td>40.712278</td>\n",
       "      <td>1</td>\n",
       "    </tr>\n",
       "    <tr>\n",
       "      <th>1</th>\n",
       "      <td>2010-01-05 16:52:16.0000002</td>\n",
       "      <td>16.9</td>\n",
       "      <td>2010-01-05 16:52:16</td>\n",
       "      <td>-74.016048</td>\n",
       "      <td>40.711303</td>\n",
       "      <td>-73.979268</td>\n",
       "      <td>40.782004</td>\n",
       "      <td>1</td>\n",
       "    </tr>\n",
       "    <tr>\n",
       "      <th>2</th>\n",
       "      <td>2011-08-18 00:35:00.00000049</td>\n",
       "      <td>5.7</td>\n",
       "      <td>2011-08-18 00:35:00</td>\n",
       "      <td>-73.982738</td>\n",
       "      <td>40.761270</td>\n",
       "      <td>-73.991242</td>\n",
       "      <td>40.750562</td>\n",
       "      <td>2</td>\n",
       "    </tr>\n",
       "    <tr>\n",
       "      <th>3</th>\n",
       "      <td>2012-04-21 04:30:42.0000001</td>\n",
       "      <td>7.7</td>\n",
       "      <td>2012-04-21 04:30:42</td>\n",
       "      <td>-73.987130</td>\n",
       "      <td>40.733143</td>\n",
       "      <td>-73.991567</td>\n",
       "      <td>40.758092</td>\n",
       "      <td>1</td>\n",
       "    </tr>\n",
       "    <tr>\n",
       "      <th>4</th>\n",
       "      <td>2010-03-09 07:51:00.000000135</td>\n",
       "      <td>5.3</td>\n",
       "      <td>2010-03-09 07:51:00</td>\n",
       "      <td>-73.968095</td>\n",
       "      <td>40.768008</td>\n",
       "      <td>-73.956655</td>\n",
       "      <td>40.783762</td>\n",
       "      <td>1</td>\n",
       "    </tr>\n",
       "  </tbody>\n",
       "</table>\n",
       "</div>"
      ],
      "text/plain": [
       "                             key       ...         passenger_count\n",
       "0    2009-06-15 17:26:21.0000001       ...                       1\n",
       "1    2010-01-05 16:52:16.0000002       ...                       1\n",
       "2   2011-08-18 00:35:00.00000049       ...                       2\n",
       "3    2012-04-21 04:30:42.0000001       ...                       1\n",
       "4  2010-03-09 07:51:00.000000135       ...                       1\n",
       "\n",
       "[5 rows x 8 columns]"
      ]
     },
     "execution_count": 25,
     "metadata": {},
     "output_type": "execute_result"
    }
   ],
   "source": [
    "#clean up the train dataset to eliminate out of range values\n",
    "test = test[test['pickup_longitude'] < -72]\n",
    "test = test[(test['pickup_latitude'] > 40) &(train\n",
    "                                               ['pickup_latitude'] < 44)]\n",
    "test = test[test['dropoff_longitude'] < -72]\n",
    "test = test[(test['dropoff_latitude'] >40) & (train\n",
    "                                                ['dropoff_latitude'] < 44)]\n",
    "test = test[(test['passenger_count']>0) &(train['passenger_count'] < 10)]\n",
    "train.head()"
   ]
  },
  {
   "cell_type": "markdown",
   "metadata": {},
   "source": [
    "we clean the dataset."
   ]
  },
  {
   "cell_type": "markdown",
   "metadata": {},
   "source": [
    "#  Transforming Feature"
   ]
  },
  {
   "cell_type": "code",
   "execution_count": 26,
   "metadata": {
    "_uuid": "6c78626deaecf66a34a8bfa166c7e67d73d41c1b"
   },
   "outputs": [
    {
     "data": {
      "text/plain": [
       "pandas._libs.tslibs.timestamps.Timestamp"
      ]
     },
     "execution_count": 26,
     "metadata": {},
     "output_type": "execute_result"
    }
   ],
   "source": [
    "#pickup_datetime \n",
    "\n",
    "train['pickup_datetime'] = pd.to_datetime(train['pickup_datetime'])\n",
    "type(train['pickup_datetime'].iloc[0])"
   ]
  },
  {
   "cell_type": "markdown",
   "metadata": {
    "_uuid": "0759098ed85c07b5de8cbf2fa1c779d791d67efe"
   },
   "source": [
    "conver Datetime var into single column as year, month,day_of_week, and hour "
   ]
  },
  {
   "cell_type": "code",
   "execution_count": 27,
   "metadata": {
    "_uuid": "d1062481bd280368c31203d5e94146b3ebd7f13d"
   },
   "outputs": [
    {
     "data": {
      "text/html": [
       "<div>\n",
       "<style scoped>\n",
       "    .dataframe tbody tr th:only-of-type {\n",
       "        vertical-align: middle;\n",
       "    }\n",
       "\n",
       "    .dataframe tbody tr th {\n",
       "        vertical-align: top;\n",
       "    }\n",
       "\n",
       "    .dataframe thead th {\n",
       "        text-align: right;\n",
       "    }\n",
       "</style>\n",
       "<table border=\"1\" class=\"dataframe\">\n",
       "  <thead>\n",
       "    <tr style=\"text-align: right;\">\n",
       "      <th></th>\n",
       "      <th>key</th>\n",
       "      <th>fare_amount</th>\n",
       "      <th>pickup_datetime</th>\n",
       "      <th>pickup_longitude</th>\n",
       "      <th>pickup_latitude</th>\n",
       "      <th>dropoff_longitude</th>\n",
       "      <th>dropoff_latitude</th>\n",
       "      <th>passenger_count</th>\n",
       "      <th>hour_of_day</th>\n",
       "      <th>day</th>\n",
       "      <th>week</th>\n",
       "      <th>month</th>\n",
       "      <th>day_of_year</th>\n",
       "      <th>week_of_year</th>\n",
       "    </tr>\n",
       "  </thead>\n",
       "  <tbody>\n",
       "    <tr>\n",
       "      <th>0</th>\n",
       "      <td>2009-06-15 17:26:21.0000001</td>\n",
       "      <td>4.5</td>\n",
       "      <td>2009-06-15 17:26:21</td>\n",
       "      <td>-73.844311</td>\n",
       "      <td>40.721319</td>\n",
       "      <td>-73.841610</td>\n",
       "      <td>40.712278</td>\n",
       "      <td>1</td>\n",
       "      <td>17</td>\n",
       "      <td>15</td>\n",
       "      <td>25</td>\n",
       "      <td>6</td>\n",
       "      <td>166</td>\n",
       "      <td>25</td>\n",
       "    </tr>\n",
       "    <tr>\n",
       "      <th>1</th>\n",
       "      <td>2010-01-05 16:52:16.0000002</td>\n",
       "      <td>16.9</td>\n",
       "      <td>2010-01-05 16:52:16</td>\n",
       "      <td>-74.016048</td>\n",
       "      <td>40.711303</td>\n",
       "      <td>-73.979268</td>\n",
       "      <td>40.782004</td>\n",
       "      <td>1</td>\n",
       "      <td>16</td>\n",
       "      <td>5</td>\n",
       "      <td>1</td>\n",
       "      <td>1</td>\n",
       "      <td>5</td>\n",
       "      <td>1</td>\n",
       "    </tr>\n",
       "    <tr>\n",
       "      <th>2</th>\n",
       "      <td>2011-08-18 00:35:00.00000049</td>\n",
       "      <td>5.7</td>\n",
       "      <td>2011-08-18 00:35:00</td>\n",
       "      <td>-73.982738</td>\n",
       "      <td>40.761270</td>\n",
       "      <td>-73.991242</td>\n",
       "      <td>40.750562</td>\n",
       "      <td>2</td>\n",
       "      <td>0</td>\n",
       "      <td>18</td>\n",
       "      <td>33</td>\n",
       "      <td>8</td>\n",
       "      <td>230</td>\n",
       "      <td>33</td>\n",
       "    </tr>\n",
       "    <tr>\n",
       "      <th>3</th>\n",
       "      <td>2012-04-21 04:30:42.0000001</td>\n",
       "      <td>7.7</td>\n",
       "      <td>2012-04-21 04:30:42</td>\n",
       "      <td>-73.987130</td>\n",
       "      <td>40.733143</td>\n",
       "      <td>-73.991567</td>\n",
       "      <td>40.758092</td>\n",
       "      <td>1</td>\n",
       "      <td>4</td>\n",
       "      <td>21</td>\n",
       "      <td>16</td>\n",
       "      <td>4</td>\n",
       "      <td>112</td>\n",
       "      <td>16</td>\n",
       "    </tr>\n",
       "    <tr>\n",
       "      <th>4</th>\n",
       "      <td>2010-03-09 07:51:00.000000135</td>\n",
       "      <td>5.3</td>\n",
       "      <td>2010-03-09 07:51:00</td>\n",
       "      <td>-73.968095</td>\n",
       "      <td>40.768008</td>\n",
       "      <td>-73.956655</td>\n",
       "      <td>40.783762</td>\n",
       "      <td>1</td>\n",
       "      <td>7</td>\n",
       "      <td>9</td>\n",
       "      <td>10</td>\n",
       "      <td>3</td>\n",
       "      <td>68</td>\n",
       "      <td>10</td>\n",
       "    </tr>\n",
       "  </tbody>\n",
       "</table>\n",
       "</div>"
      ],
      "text/plain": [
       "                             key      ...       week_of_year\n",
       "0    2009-06-15 17:26:21.0000001      ...                 25\n",
       "1    2010-01-05 16:52:16.0000002      ...                  1\n",
       "2   2011-08-18 00:35:00.00000049      ...                 33\n",
       "3    2012-04-21 04:30:42.0000001      ...                 16\n",
       "4  2010-03-09 07:51:00.000000135      ...                 10\n",
       "\n",
       "[5 rows x 14 columns]"
      ]
     },
     "execution_count": 27,
     "metadata": {},
     "output_type": "execute_result"
    }
   ],
   "source": [
    "combine = [test, train]\n",
    "for dataset in combine:\n",
    "        # Features: hour of day (night vs day), month (some months may be in higher demand) \n",
    "    dataset['pickup_datetime'] = pd.to_datetime(dataset['pickup_datetime'])\n",
    "    dataset['hour_of_day'] = dataset.pickup_datetime.dt.hour\n",
    "    dataset['day'] = dataset.pickup_datetime.dt.day\n",
    "    dataset['week'] = dataset.pickup_datetime.dt.week\n",
    "    dataset['month'] = dataset.pickup_datetime.dt.month\n",
    "    dataset['day_of_year'] = dataset.pickup_datetime.dt.dayofyear\n",
    "    dataset['week_of_year'] = dataset.pickup_datetime.dt.weekofyear\n",
    "\n",
    "    \n",
    "#dataset['Year'] = dataset['pickup_datetime'].apply(lambda time: time.year)\n",
    "#dataset['Month'] = dataset['pickup_datetime'].apply(lambda time: time.month)\n",
    "#ataset['Day of Week'] = dataset['pickup_datetime'].apply(lambda time: time.dayofweek)\n",
    "#dataset['Hour'] = dataset['pickup_datetime'].apply(lambda time: time.hour)\n",
    "\n",
    "train.head()\n"
   ]
  },
  {
   "cell_type": "code",
   "execution_count": 28,
   "metadata": {},
   "outputs": [
    {
     "data": {
      "text/html": [
       "<div>\n",
       "<style scoped>\n",
       "    .dataframe tbody tr th:only-of-type {\n",
       "        vertical-align: middle;\n",
       "    }\n",
       "\n",
       "    .dataframe tbody tr th {\n",
       "        vertical-align: top;\n",
       "    }\n",
       "\n",
       "    .dataframe thead th {\n",
       "        text-align: right;\n",
       "    }\n",
       "</style>\n",
       "<table border=\"1\" class=\"dataframe\">\n",
       "  <thead>\n",
       "    <tr style=\"text-align: right;\">\n",
       "      <th></th>\n",
       "      <th>key</th>\n",
       "      <th>pickup_datetime</th>\n",
       "      <th>pickup_longitude</th>\n",
       "      <th>pickup_latitude</th>\n",
       "      <th>dropoff_longitude</th>\n",
       "      <th>dropoff_latitude</th>\n",
       "      <th>passenger_count</th>\n",
       "      <th>hour_of_day</th>\n",
       "      <th>day</th>\n",
       "      <th>week</th>\n",
       "      <th>month</th>\n",
       "      <th>day_of_year</th>\n",
       "      <th>week_of_year</th>\n",
       "    </tr>\n",
       "  </thead>\n",
       "  <tbody>\n",
       "    <tr>\n",
       "      <th>0</th>\n",
       "      <td>2015-01-27 13:08:24.0000002</td>\n",
       "      <td>2015-01-27 13:08:24</td>\n",
       "      <td>-73.973320</td>\n",
       "      <td>40.763805</td>\n",
       "      <td>-73.981430</td>\n",
       "      <td>40.743835</td>\n",
       "      <td>1</td>\n",
       "      <td>13</td>\n",
       "      <td>27</td>\n",
       "      <td>5</td>\n",
       "      <td>1</td>\n",
       "      <td>27</td>\n",
       "      <td>5</td>\n",
       "    </tr>\n",
       "    <tr>\n",
       "      <th>1</th>\n",
       "      <td>2015-01-27 13:08:24.0000003</td>\n",
       "      <td>2015-01-27 13:08:24</td>\n",
       "      <td>-73.986862</td>\n",
       "      <td>40.719383</td>\n",
       "      <td>-73.998886</td>\n",
       "      <td>40.739201</td>\n",
       "      <td>1</td>\n",
       "      <td>13</td>\n",
       "      <td>27</td>\n",
       "      <td>5</td>\n",
       "      <td>1</td>\n",
       "      <td>27</td>\n",
       "      <td>5</td>\n",
       "    </tr>\n",
       "    <tr>\n",
       "      <th>2</th>\n",
       "      <td>2011-10-08 11:53:44.0000002</td>\n",
       "      <td>2011-10-08 11:53:44</td>\n",
       "      <td>-73.982524</td>\n",
       "      <td>40.751260</td>\n",
       "      <td>-73.979654</td>\n",
       "      <td>40.746139</td>\n",
       "      <td>1</td>\n",
       "      <td>11</td>\n",
       "      <td>8</td>\n",
       "      <td>40</td>\n",
       "      <td>10</td>\n",
       "      <td>281</td>\n",
       "      <td>40</td>\n",
       "    </tr>\n",
       "    <tr>\n",
       "      <th>3</th>\n",
       "      <td>2012-12-01 21:12:12.0000002</td>\n",
       "      <td>2012-12-01 21:12:12</td>\n",
       "      <td>-73.981160</td>\n",
       "      <td>40.767807</td>\n",
       "      <td>-73.990448</td>\n",
       "      <td>40.751635</td>\n",
       "      <td>1</td>\n",
       "      <td>21</td>\n",
       "      <td>1</td>\n",
       "      <td>48</td>\n",
       "      <td>12</td>\n",
       "      <td>336</td>\n",
       "      <td>48</td>\n",
       "    </tr>\n",
       "    <tr>\n",
       "      <th>4</th>\n",
       "      <td>2012-12-01 21:12:12.0000003</td>\n",
       "      <td>2012-12-01 21:12:12</td>\n",
       "      <td>-73.966046</td>\n",
       "      <td>40.789775</td>\n",
       "      <td>-73.988565</td>\n",
       "      <td>40.744427</td>\n",
       "      <td>1</td>\n",
       "      <td>21</td>\n",
       "      <td>1</td>\n",
       "      <td>48</td>\n",
       "      <td>12</td>\n",
       "      <td>336</td>\n",
       "      <td>48</td>\n",
       "    </tr>\n",
       "  </tbody>\n",
       "</table>\n",
       "</div>"
      ],
      "text/plain": [
       "                           key     ...      week_of_year\n",
       "0  2015-01-27 13:08:24.0000002     ...                 5\n",
       "1  2015-01-27 13:08:24.0000003     ...                 5\n",
       "2  2011-10-08 11:53:44.0000002     ...                40\n",
       "3  2012-12-01 21:12:12.0000002     ...                48\n",
       "4  2012-12-01 21:12:12.0000003     ...                48\n",
       "\n",
       "[5 rows x 13 columns]"
      ]
     },
     "execution_count": 28,
     "metadata": {},
     "output_type": "execute_result"
    }
   ],
   "source": [
    "test.head()"
   ]
  },
  {
   "cell_type": "code",
   "execution_count": 29,
   "metadata": {
    "_kg_hide-input": false,
    "_uuid": "af1cf2292a03899c6432bf2bfd359b75b8efb879"
   },
   "outputs": [
    {
     "data": {
      "text/html": [
       "<div>\n",
       "<style scoped>\n",
       "    .dataframe tbody tr th:only-of-type {\n",
       "        vertical-align: middle;\n",
       "    }\n",
       "\n",
       "    .dataframe tbody tr th {\n",
       "        vertical-align: top;\n",
       "    }\n",
       "\n",
       "    .dataframe thead th {\n",
       "        text-align: right;\n",
       "    }\n",
       "</style>\n",
       "<table border=\"1\" class=\"dataframe\">\n",
       "  <thead>\n",
       "    <tr style=\"text-align: right;\">\n",
       "      <th></th>\n",
       "      <th>key</th>\n",
       "      <th>fare_amount</th>\n",
       "      <th>pickup_datetime</th>\n",
       "      <th>pickup_longitude</th>\n",
       "      <th>pickup_latitude</th>\n",
       "      <th>dropoff_longitude</th>\n",
       "      <th>dropoff_latitude</th>\n",
       "      <th>passenger_count</th>\n",
       "      <th>hour_of_day</th>\n",
       "      <th>day</th>\n",
       "      <th>week</th>\n",
       "      <th>month</th>\n",
       "      <th>day_of_year</th>\n",
       "      <th>week_of_year</th>\n",
       "      <th>abs_diff_longitude</th>\n",
       "      <th>abs_diff_latitude</th>\n",
       "    </tr>\n",
       "  </thead>\n",
       "  <tbody>\n",
       "    <tr>\n",
       "      <th>0</th>\n",
       "      <td>2009-06-15 17:26:21.0000001</td>\n",
       "      <td>4.5</td>\n",
       "      <td>2009-06-15 17:26:21</td>\n",
       "      <td>-73.844311</td>\n",
       "      <td>40.721319</td>\n",
       "      <td>-73.84161</td>\n",
       "      <td>40.712278</td>\n",
       "      <td>1</td>\n",
       "      <td>17</td>\n",
       "      <td>15</td>\n",
       "      <td>25</td>\n",
       "      <td>6</td>\n",
       "      <td>166</td>\n",
       "      <td>25</td>\n",
       "      <td>0.002701</td>\n",
       "      <td>0.009041</td>\n",
       "    </tr>\n",
       "  </tbody>\n",
       "</table>\n",
       "</div>"
      ],
      "text/plain": [
       "                           key        ...          abs_diff_latitude\n",
       "0  2009-06-15 17:26:21.0000001        ...                   0.009041\n",
       "\n",
       "[1 rows x 16 columns]"
      ]
     },
     "execution_count": 29,
     "metadata": {},
     "output_type": "execute_result"
    }
   ],
   "source": [
    "# Given a dataframe, add two new features 'abs_diff_longitude' and\n",
    "# 'abs_diff_latitude' reprensenting the \"Manhattan vector\" from\n",
    "# the pickup location to the dropoff location.\n",
    "def add_travel_vector_features(df):\n",
    "    df['abs_diff_longitude'] = (df.dropoff_longitude - df.pickup_longitude).abs()\n",
    "    df['abs_diff_latitude'] = (df.dropoff_latitude - df.pickup_latitude).abs()\n",
    "\n",
    "add_travel_vector_features(train) \n",
    "train.head(1)"
   ]
  },
  {
   "cell_type": "code",
   "execution_count": 30,
   "metadata": {},
   "outputs": [
    {
     "data": {
      "text/html": [
       "<div>\n",
       "<style scoped>\n",
       "    .dataframe tbody tr th:only-of-type {\n",
       "        vertical-align: middle;\n",
       "    }\n",
       "\n",
       "    .dataframe tbody tr th {\n",
       "        vertical-align: top;\n",
       "    }\n",
       "\n",
       "    .dataframe thead th {\n",
       "        text-align: right;\n",
       "    }\n",
       "</style>\n",
       "<table border=\"1\" class=\"dataframe\">\n",
       "  <thead>\n",
       "    <tr style=\"text-align: right;\">\n",
       "      <th></th>\n",
       "      <th>key</th>\n",
       "      <th>pickup_datetime</th>\n",
       "      <th>pickup_longitude</th>\n",
       "      <th>pickup_latitude</th>\n",
       "      <th>dropoff_longitude</th>\n",
       "      <th>dropoff_latitude</th>\n",
       "      <th>passenger_count</th>\n",
       "      <th>hour_of_day</th>\n",
       "      <th>day</th>\n",
       "      <th>week</th>\n",
       "      <th>month</th>\n",
       "      <th>day_of_year</th>\n",
       "      <th>week_of_year</th>\n",
       "      <th>abs_diff_longitude</th>\n",
       "      <th>abs_diff_latitude</th>\n",
       "    </tr>\n",
       "  </thead>\n",
       "  <tbody>\n",
       "    <tr>\n",
       "      <th>0</th>\n",
       "      <td>2015-01-27 13:08:24.0000002</td>\n",
       "      <td>2015-01-27 13:08:24</td>\n",
       "      <td>-73.97332</td>\n",
       "      <td>40.763805</td>\n",
       "      <td>-73.98143</td>\n",
       "      <td>40.743835</td>\n",
       "      <td>1</td>\n",
       "      <td>13</td>\n",
       "      <td>27</td>\n",
       "      <td>5</td>\n",
       "      <td>1</td>\n",
       "      <td>27</td>\n",
       "      <td>5</td>\n",
       "      <td>0.00811</td>\n",
       "      <td>0.01997</td>\n",
       "    </tr>\n",
       "  </tbody>\n",
       "</table>\n",
       "</div>"
      ],
      "text/plain": [
       "                           key        ...        abs_diff_latitude\n",
       "0  2015-01-27 13:08:24.0000002        ...                  0.01997\n",
       "\n",
       "[1 rows x 15 columns]"
      ]
     },
     "execution_count": 30,
     "metadata": {},
     "output_type": "execute_result"
    }
   ],
   "source": [
    "# Given a dataframe, add two new features 'abs_diff_longitude' and\n",
    "# 'abs_diff_latitude' reprensenting the \"Manhattan vector\" from\n",
    "# the pickup location to the dropoff location.\n",
    "def add_travel_vector_features(df):\n",
    "    df['abs_diff_longitude'] = (df.dropoff_longitude - df.pickup_longitude).abs()\n",
    "    df['abs_diff_latitude'] = (df.dropoff_latitude - df.pickup_latitude).abs()\n",
    "\n",
    "add_travel_vector_features(test) \n",
    "test.head(1)"
   ]
  },
  {
   "cell_type": "code",
   "execution_count": 31,
   "metadata": {},
   "outputs": [],
   "source": [
    "# remove unnessary column that not requred for modeling.\n",
    "train = train.drop(['key','pickup_datetime'],axis = 1) \n",
    "test = test.drop('pickup_datetime',axis = 1)\n",
    "#train.info()"
   ]
  },
  {
   "cell_type": "markdown",
   "metadata": {},
   "source": [
    "#  Feature encoding"
   ]
  },
  {
   "cell_type": "code",
   "execution_count": 32,
   "metadata": {
    "_uuid": "c472d2e5904ec3879cbe959abcf276ebd4c2f15a"
   },
   "outputs": [],
   "source": [
    "x_train = train.drop(['fare_amount'], axis=1)\n",
    "y_train = train['fare_amount']\n",
    "x_test = test.drop('key', axis=1)\n"
   ]
  },
  {
   "cell_type": "markdown",
   "metadata": {},
   "source": [
    "#  5) Model Design"
   ]
  },
  {
   "cell_type": "markdown",
   "metadata": {},
   "source": [
    "#  i)Linear Regression"
   ]
  },
  {
   "cell_type": "code",
   "execution_count": 33,
   "metadata": {
    "_uuid": "bcc7043899ffe87d62de19526198aa93eef46d48"
   },
   "outputs": [],
   "source": [
    "from sklearn.linear_model import LinearRegression\n",
    "from sklearn.metrics import accuracy_score"
   ]
  },
  {
   "cell_type": "code",
   "execution_count": 34,
   "metadata": {
    "_uuid": "0bc36ddd867e03b476c98d2848f0627265ac3bed"
   },
   "outputs": [
    {
     "data": {
      "text/plain": [
       "LinearRegression(copy_X=True, fit_intercept=True, n_jobs=None,\n",
       "         normalize=False)"
      ]
     },
     "execution_count": 34,
     "metadata": {},
     "output_type": "execute_result"
    }
   ],
   "source": [
    "linmodel = LinearRegression()\n",
    "linmodel.fit(x_train, y_train)\n"
   ]
  },
  {
   "cell_type": "code",
   "execution_count": 35,
   "metadata": {
    "_uuid": "eeb778fec8ecb57770954a4a10d70643d4fb9e9b"
   },
   "outputs": [],
   "source": [
    "linmodel_pred = linmodel.predict(x_test)  # prediction on train \n"
   ]
  },
  {
   "cell_type": "markdown",
   "metadata": {},
   "source": [
    "# ii)Random Forest Regressor\n"
   ]
  },
  {
   "cell_type": "code",
   "execution_count": 36,
   "metadata": {
    "_uuid": "47cc8513a1a393fd751a84213b35b9aeb9c127e8"
   },
   "outputs": [
    {
     "name": "stderr",
     "output_type": "stream",
     "text": [
      "/opt/conda/lib/python3.6/site-packages/sklearn/ensemble/forest.py:246: FutureWarning: The default value of n_estimators will change from 10 in version 0.20 to 100 in 0.22.\n",
      "  \"10 in version 0.20 to 100 in 0.22.\", FutureWarning)\n"
     ]
    }
   ],
   "source": [
    "# Random Forest Regressor\n",
    "from sklearn.ensemble import RandomForestRegressor\n",
    "rfr = RandomForestRegressor()\n",
    "rfr.fit(x_train, y_train)\n",
    "rfr_pred = rfr.predict(x_test)\n"
   ]
  },
  {
   "cell_type": "markdown",
   "metadata": {
    "_uuid": "9eb153a25a50adb997f649917e32c0bfe5bba47b"
   },
   "source": [
    "references\n",
    "https://www.kaggle.com/danpavlov/ny-taxi-fare-comprehensive-and-simple-analysis"
   ]
  },
  {
   "cell_type": "markdown",
   "metadata": {},
   "source": [
    "# iii) XG-BOOST Model\n"
   ]
  },
  {
   "cell_type": "markdown",
   "metadata": {},
   "source": [
    "Now that we have the dataFrame that we wanted we can start to train the XGBoost model. First we will split the dataset into train(99%) and test(1%). with this amont of data 1% should be enough to test performance."
   ]
  },
  {
   "cell_type": "code",
   "execution_count": 37,
   "metadata": {},
   "outputs": [],
   "source": [
    "from sklearn.model_selection import train_test_split\n",
    "import xgboost as xgb\n",
    "\n",
    "#Let's prepare the test set\n",
    "x_pred = test.drop('key', axis=1)\n"
   ]
  },
  {
   "cell_type": "code",
   "execution_count": 38,
   "metadata": {},
   "outputs": [],
   "source": [
    "#feature selection\n",
    "y = train['fare_amount']    \n",
    "train_df = train.drop(['fare_amount'],axis = 1)"
   ]
  },
  {
   "cell_type": "code",
   "execution_count": 39,
   "metadata": {},
   "outputs": [],
   "source": [
    "\n",
    "# Let's run XGBoost and predict those fares\n",
    "x_train,x_test,y_train,y_test = train_test_split(train_df,y,random_state=123,test_size=0.2)\n"
   ]
  },
  {
   "cell_type": "markdown",
   "metadata": {},
   "source": [
    "# Parameter Tunning(selecting best parameter for model)\n"
   ]
  },
  {
   "cell_type": "code",
   "execution_count": 40,
   "metadata": {},
   "outputs": [],
   "source": [
    "params = {\n",
    "      #parameters that we are going to tune\n",
    "    'max_depth' :8 ,#result of tuning with cv\n",
    "    'eta' :.03, #result of tuning with cv\n",
    "    'subsample' : 1, # result of tuning with cv\n",
    "    'colsample_bytree' : 0.8, #result of tuning with cv\n",
    "    #other parameter\n",
    "    'objective': 'reg:linear',\n",
    "    'eval_metrics':'rmse',\n",
    "    'silent': 1\n",
    "}"
   ]
  },
  {
   "cell_type": "code",
   "execution_count": 41,
   "metadata": {},
   "outputs": [
    {
     "name": "stdout",
     "output_type": "stream",
     "text": [
      "{'max_depth': 8, 'eta': 0.03, 'subsample': 1, 'colsample_bytree': 0.8, 'objective': 'reg:linear', 'eval_metrics': 'rmse', 'silent': 0}\n"
     ]
    }
   ],
   "source": [
    "#Block of code used for hypertuning parameters. Adapt to each round of parameter tuning.\n",
    "CV=False\n",
    "if CV:\n",
    "    dtrain = xgb.DMatrix(train,label=y)\n",
    "    gridsearch_params = [\n",
    "        (eta)\n",
    "        for eta in np.arange(.04, 0.12, .02)\n",
    "    ]\n",
    "\n",
    "    # Define initial best params and RMSE\n",
    "    min_rmse = float(\"Inf\")\n",
    "    best_params = None\n",
    "    for (eta) in gridsearch_params:\n",
    "        print(\"CV with eta={} \".format(\n",
    "                                 eta))\n",
    "\n",
    "        # Update our parameters\n",
    "        params['eta'] = eta\n",
    "\n",
    "        # Run CV\n",
    "        cv_results = xgb.cv(\n",
    "            params,\n",
    "            dtrain,\n",
    "            num_boost_round=1000,\n",
    "            nfold=3,\n",
    "            metrics={'rmse'},\n",
    "            early_stopping_rounds=10\n",
    "        )\n",
    "\n",
    "        # Update best RMSE\n",
    "        mean_rmse = cv_results['test-rmse-mean'].min()\n",
    "        boost_rounds = cv_results['test-rmse-mean'].argmin()\n",
    "        print(\"\\tRMSE {} for {} rounds\".format(mean_rmse, boost_rounds))\n",
    "        if mean_rmse < min_rmse:\n",
    "            min_rmse = mean_rmse\n",
    "            best_params = (eta)\n",
    "\n",
    "    print(\"Best params: {}, RMSE: {}\".format(best_params, min_rmse))\n",
    "else:\n",
    "    #Print final params to use for the model\n",
    "    params['silent'] = 0 #Turn on output\n",
    "    print(params)"
   ]
  },
  {
   "cell_type": "code",
   "execution_count": 42,
   "metadata": {},
   "outputs": [
    {
     "name": "stdout",
     "output_type": "stream",
     "text": [
      "[0]\ttest-rmse:14.2722\n",
      "Will train until test-rmse hasn't improved in 20 rounds.\n"
     ]
    },
    {
     "name": "stderr",
     "output_type": "stream",
     "text": [
      "/opt/conda/lib/python3.6/site-packages/xgboost/core.py:587: FutureWarning: Series.base is deprecated and will be removed in a future version\n",
      "  if getattr(data, 'base', None) is not None and \\\n"
     ]
    },
    {
     "name": "stdout",
     "output_type": "stream",
     "text": [
      "[1]\ttest-rmse:13.9389\n",
      "[2]\ttest-rmse:13.5774\n",
      "[3]\ttest-rmse:13.2195\n",
      "[4]\ttest-rmse:12.8726\n",
      "[5]\ttest-rmse:12.5378\n",
      "[6]\ttest-rmse:12.2231\n",
      "[7]\ttest-rmse:11.9134\n",
      "[8]\ttest-rmse:11.6131\n",
      "[9]\ttest-rmse:11.3209\n",
      "[10]\ttest-rmse:11.0427\n",
      "[11]\ttest-rmse:10.7738\n",
      "[12]\ttest-rmse:10.5113\n",
      "[13]\ttest-rmse:10.2575\n",
      "[14]\ttest-rmse:10.0155\n",
      "[15]\ttest-rmse:9.77837\n",
      "[16]\ttest-rmse:9.55056\n",
      "[17]\ttest-rmse:9.33292\n",
      "[18]\ttest-rmse:9.12045\n",
      "[19]\ttest-rmse:8.91649\n",
      "[20]\ttest-rmse:8.72218\n",
      "[21]\ttest-rmse:8.53597\n",
      "[22]\ttest-rmse:8.35893\n",
      "[23]\ttest-rmse:8.18723\n",
      "[24]\ttest-rmse:8.03427\n",
      "[25]\ttest-rmse:7.88696\n",
      "[26]\ttest-rmse:7.73974\n",
      "[27]\ttest-rmse:7.5931\n",
      "[28]\ttest-rmse:7.44741\n",
      "[29]\ttest-rmse:7.31207\n",
      "[30]\ttest-rmse:7.17888\n",
      "[31]\ttest-rmse:7.05187\n",
      "[32]\ttest-rmse:6.92745\n",
      "[33]\ttest-rmse:6.80708\n",
      "[34]\ttest-rmse:6.69603\n",
      "[35]\ttest-rmse:6.59028\n",
      "[36]\ttest-rmse:6.48986\n",
      "[37]\ttest-rmse:6.39503\n",
      "[38]\ttest-rmse:6.29739\n",
      "[39]\ttest-rmse:6.20833\n",
      "[40]\ttest-rmse:6.1185\n",
      "[41]\ttest-rmse:6.03799\n",
      "[42]\ttest-rmse:5.95492\n",
      "[43]\ttest-rmse:5.87961\n",
      "[44]\ttest-rmse:5.80432\n",
      "[45]\ttest-rmse:5.73472\n",
      "[46]\ttest-rmse:5.67021\n",
      "[47]\ttest-rmse:5.60558\n",
      "[48]\ttest-rmse:5.54352\n",
      "[49]\ttest-rmse:5.49157\n",
      "[50]\ttest-rmse:5.43552\n",
      "[51]\ttest-rmse:5.38469\n",
      "[52]\ttest-rmse:5.33283\n",
      "[53]\ttest-rmse:5.28321\n",
      "[54]\ttest-rmse:5.23733\n",
      "[55]\ttest-rmse:5.19211\n",
      "[56]\ttest-rmse:5.15323\n",
      "[57]\ttest-rmse:5.11211\n",
      "[58]\ttest-rmse:5.07237\n",
      "[59]\ttest-rmse:5.03557\n",
      "[60]\ttest-rmse:5.00348\n",
      "[61]\ttest-rmse:4.97039\n",
      "[62]\ttest-rmse:4.93843\n",
      "[63]\ttest-rmse:4.90711\n",
      "[64]\ttest-rmse:4.87785\n",
      "[65]\ttest-rmse:4.85097\n",
      "[66]\ttest-rmse:4.82495\n",
      "[67]\ttest-rmse:4.79901\n",
      "[68]\ttest-rmse:4.7748\n",
      "[69]\ttest-rmse:4.75157\n",
      "[70]\ttest-rmse:4.72904\n",
      "[71]\ttest-rmse:4.70835\n",
      "[72]\ttest-rmse:4.68777\n",
      "[73]\ttest-rmse:4.66869\n",
      "[74]\ttest-rmse:4.65154\n",
      "[75]\ttest-rmse:4.63354\n",
      "[76]\ttest-rmse:4.61926\n",
      "[77]\ttest-rmse:4.60064\n",
      "[78]\ttest-rmse:4.58661\n",
      "[79]\ttest-rmse:4.57298\n",
      "[80]\ttest-rmse:4.56046\n",
      "[81]\ttest-rmse:4.54812\n",
      "[82]\ttest-rmse:4.53696\n",
      "[83]\ttest-rmse:4.52569\n",
      "[84]\ttest-rmse:4.51425\n",
      "[85]\ttest-rmse:4.50279\n",
      "[86]\ttest-rmse:4.49181\n",
      "[87]\ttest-rmse:4.48409\n",
      "[88]\ttest-rmse:4.47594\n",
      "[89]\ttest-rmse:4.46794\n",
      "[90]\ttest-rmse:4.45968\n",
      "[91]\ttest-rmse:4.45264\n",
      "[92]\ttest-rmse:4.44517\n",
      "[93]\ttest-rmse:4.43767\n",
      "[94]\ttest-rmse:4.43193\n",
      "[95]\ttest-rmse:4.42464\n",
      "[96]\ttest-rmse:4.41815\n",
      "[97]\ttest-rmse:4.41136\n",
      "[98]\ttest-rmse:4.40653\n",
      "[99]\ttest-rmse:4.40128\n",
      "[100]\ttest-rmse:4.39566\n",
      "[101]\ttest-rmse:4.39017\n",
      "[102]\ttest-rmse:4.38492\n",
      "[103]\ttest-rmse:4.3806\n",
      "[104]\ttest-rmse:4.37704\n",
      "[105]\ttest-rmse:4.3739\n",
      "[106]\ttest-rmse:4.37016\n",
      "[107]\ttest-rmse:4.36702\n",
      "[108]\ttest-rmse:4.36423\n",
      "[109]\ttest-rmse:4.36114\n",
      "[110]\ttest-rmse:4.35672\n",
      "[111]\ttest-rmse:4.35334\n",
      "[112]\ttest-rmse:4.35052\n",
      "[113]\ttest-rmse:4.34609\n",
      "[114]\ttest-rmse:4.34294\n",
      "[115]\ttest-rmse:4.34034\n",
      "[116]\ttest-rmse:4.33798\n",
      "[117]\ttest-rmse:4.33533\n",
      "[118]\ttest-rmse:4.33364\n",
      "[119]\ttest-rmse:4.3314\n",
      "[120]\ttest-rmse:4.33153\n",
      "[121]\ttest-rmse:4.32898\n",
      "[122]\ttest-rmse:4.32738\n",
      "[123]\ttest-rmse:4.32474\n",
      "[124]\ttest-rmse:4.32411\n",
      "[125]\ttest-rmse:4.32187\n",
      "[126]\ttest-rmse:4.3188\n",
      "[127]\ttest-rmse:4.31716\n",
      "[128]\ttest-rmse:4.31548\n",
      "[129]\ttest-rmse:4.3145\n",
      "[130]\ttest-rmse:4.3139\n",
      "[131]\ttest-rmse:4.31166\n",
      "[132]\ttest-rmse:4.30937\n",
      "[133]\ttest-rmse:4.30775\n",
      "[134]\ttest-rmse:4.30626\n",
      "[135]\ttest-rmse:4.30536\n",
      "[136]\ttest-rmse:4.30325\n",
      "[137]\ttest-rmse:4.30238\n",
      "[138]\ttest-rmse:4.30152\n",
      "[139]\ttest-rmse:4.2994\n",
      "[140]\ttest-rmse:4.29914\n",
      "[141]\ttest-rmse:4.29846\n",
      "[142]\ttest-rmse:4.2978\n",
      "[143]\ttest-rmse:4.29682\n",
      "[144]\ttest-rmse:4.29645\n",
      "[145]\ttest-rmse:4.29674\n",
      "[146]\ttest-rmse:4.29603\n",
      "[147]\ttest-rmse:4.29567\n",
      "[148]\ttest-rmse:4.29534\n",
      "[149]\ttest-rmse:4.2946\n",
      "[150]\ttest-rmse:4.29438\n",
      "[151]\ttest-rmse:4.29407\n",
      "[152]\ttest-rmse:4.29501\n",
      "[153]\ttest-rmse:4.2948\n",
      "[154]\ttest-rmse:4.29421\n",
      "[155]\ttest-rmse:4.29387\n",
      "[156]\ttest-rmse:4.2928\n",
      "[157]\ttest-rmse:4.29252\n",
      "[158]\ttest-rmse:4.29167\n",
      "[159]\ttest-rmse:4.29117\n",
      "[160]\ttest-rmse:4.29251\n",
      "[161]\ttest-rmse:4.29188\n",
      "[162]\ttest-rmse:4.2925\n",
      "[163]\ttest-rmse:4.29243\n",
      "[164]\ttest-rmse:4.29118\n",
      "[165]\ttest-rmse:4.29143\n",
      "[166]\ttest-rmse:4.29089\n",
      "[167]\ttest-rmse:4.28993\n",
      "[168]\ttest-rmse:4.2898\n",
      "[169]\ttest-rmse:4.28932\n",
      "[170]\ttest-rmse:4.28954\n",
      "[171]\ttest-rmse:4.28897\n",
      "[172]\ttest-rmse:4.289\n",
      "[173]\ttest-rmse:4.28769\n",
      "[174]\ttest-rmse:4.28806\n",
      "[175]\ttest-rmse:4.28793\n",
      "[176]\ttest-rmse:4.28759\n",
      "[177]\ttest-rmse:4.28761\n",
      "[178]\ttest-rmse:4.28633\n",
      "[179]\ttest-rmse:4.28567\n",
      "[180]\ttest-rmse:4.28541\n",
      "[181]\ttest-rmse:4.28495\n",
      "[182]\ttest-rmse:4.28417\n",
      "[183]\ttest-rmse:4.28364\n",
      "[184]\ttest-rmse:4.28306\n",
      "[185]\ttest-rmse:4.2827\n",
      "[186]\ttest-rmse:4.28187\n",
      "[187]\ttest-rmse:4.28121\n",
      "[188]\ttest-rmse:4.28019\n",
      "[189]\ttest-rmse:4.28033\n",
      "[190]\ttest-rmse:4.27967\n",
      "[191]\ttest-rmse:4.27937\n",
      "[192]\ttest-rmse:4.27845\n",
      "[193]\ttest-rmse:4.27833\n",
      "[194]\ttest-rmse:4.27838\n",
      "[195]\ttest-rmse:4.27736\n",
      "[196]\ttest-rmse:4.27646\n",
      "[197]\ttest-rmse:4.27551\n",
      "[198]\ttest-rmse:4.27512\n",
      "[199]\ttest-rmse:4.27448\n"
     ]
    }
   ],
   "source": [
    "\n",
    "def XGBmodel(x_train,x_test,y_train,y_test):\n",
    "    matrix_train = xgb.DMatrix(x_train,label=y_train)\n",
    "    matrix_test = xgb.DMatrix(x_test,label=y_test)\n",
    "    model=xgb.train(params=params\n",
    "                                  ,dtrain=matrix_train,num_boost_round=200, \n",
    "                    early_stopping_rounds=20,evals=[(matrix_test,'test')],)\n",
    "    return model\n",
    "\n",
    "model=XGBmodel(x_train,x_test,y_train,y_test)\n",
    "xgb_pred = model.predict(xgb.DMatrix(x_pred), ntree_limit = model.best_ntree_limit)"
   ]
  },
  {
   "cell_type": "code",
   "execution_count": 43,
   "metadata": {},
   "outputs": [
    {
     "data": {
      "text/plain": [
       "(array([ 9.49426799, 10.67425794,  7.40927216, ..., 36.33002266,\n",
       "        18.47096884,  6.85437437]),\n",
       " array([ 8.15 ,  9.44 ,  3.88 , ..., 47.532, 18.43 ,  6.19 ]),\n",
       " array([ 8.869515,  8.721818,  5.247205, ..., 49.612556, 18.333788,\n",
       "         6.9378  ], dtype=float32))"
      ]
     },
     "execution_count": 43,
     "metadata": {},
     "output_type": "execute_result"
    }
   ],
   "source": [
    "linmodel_pred, rfr_pred, xgb_pred\n"
   ]
  },
  {
   "cell_type": "code",
   "execution_count": 44,
   "metadata": {},
   "outputs": [],
   "source": [
    "# Assigning weights. More precise models gets higher weight.\n",
    "linmodel_weight = 1\n",
    "rfr_weight = 1\n",
    "xgb_weight = 3\n",
    "prediction = (linmodel_pred * linmodel_weight + rfr_pred * rfr_weight + xgb_pred * xgb_weight) / (linmodel_weight + rfr_weight + xgb_weight)\n"
   ]
  },
  {
   "cell_type": "code",
   "execution_count": 45,
   "metadata": {},
   "outputs": [
    {
     "data": {
      "text/plain": [
       "array([ 8.85056304,  9.25594256,  5.4061773 , ..., 46.53993993,\n",
       "       18.3804669 ,  6.77155493])"
      ]
     },
     "execution_count": 45,
     "metadata": {},
     "output_type": "execute_result"
    }
   ],
   "source": [
    "prediction\n"
   ]
  },
  {
   "cell_type": "markdown",
   "metadata": {},
   "source": [
    "# 6)Submission\n"
   ]
  },
  {
   "cell_type": "code",
   "execution_count": 46,
   "metadata": {},
   "outputs": [],
   "source": [
    "# Add to submission\n",
    "submission = pd.DataFrame({\n",
    "        \"key\": test['key'],\n",
    "        \"fare_amount\": prediction.round(2)\n",
    "})\n",
    "\n",
    "submission.to_csv('sub_fare.csv',index=False)\n"
   ]
  },
  {
   "cell_type": "code",
   "execution_count": 47,
   "metadata": {},
   "outputs": [
    {
     "data": {
      "text/html": [
       "<div>\n",
       "<style scoped>\n",
       "    .dataframe tbody tr th:only-of-type {\n",
       "        vertical-align: middle;\n",
       "    }\n",
       "\n",
       "    .dataframe tbody tr th {\n",
       "        vertical-align: top;\n",
       "    }\n",
       "\n",
       "    .dataframe thead th {\n",
       "        text-align: right;\n",
       "    }\n",
       "</style>\n",
       "<table border=\"1\" class=\"dataframe\">\n",
       "  <thead>\n",
       "    <tr style=\"text-align: right;\">\n",
       "      <th></th>\n",
       "      <th>key</th>\n",
       "      <th>fare_amount</th>\n",
       "    </tr>\n",
       "  </thead>\n",
       "  <tbody>\n",
       "    <tr>\n",
       "      <th>0</th>\n",
       "      <td>2015-01-27 13:08:24.0000002</td>\n",
       "      <td>8.85</td>\n",
       "    </tr>\n",
       "    <tr>\n",
       "      <th>1</th>\n",
       "      <td>2015-01-27 13:08:24.0000003</td>\n",
       "      <td>9.26</td>\n",
       "    </tr>\n",
       "    <tr>\n",
       "      <th>2</th>\n",
       "      <td>2011-10-08 11:53:44.0000002</td>\n",
       "      <td>5.41</td>\n",
       "    </tr>\n",
       "    <tr>\n",
       "      <th>3</th>\n",
       "      <td>2012-12-01 21:12:12.0000002</td>\n",
       "      <td>7.90</td>\n",
       "    </tr>\n",
       "    <tr>\n",
       "      <th>4</th>\n",
       "      <td>2012-12-01 21:12:12.0000003</td>\n",
       "      <td>14.47</td>\n",
       "    </tr>\n",
       "    <tr>\n",
       "      <th>5</th>\n",
       "      <td>2012-12-01 21:12:12.0000005</td>\n",
       "      <td>10.55</td>\n",
       "    </tr>\n",
       "    <tr>\n",
       "      <th>6</th>\n",
       "      <td>2011-10-06 12:10:20.0000001</td>\n",
       "      <td>6.29</td>\n",
       "    </tr>\n",
       "    <tr>\n",
       "      <th>7</th>\n",
       "      <td>2011-10-06 12:10:20.0000003</td>\n",
       "      <td>54.09</td>\n",
       "    </tr>\n",
       "    <tr>\n",
       "      <th>8</th>\n",
       "      <td>2011-10-06 12:10:20.0000002</td>\n",
       "      <td>12.62</td>\n",
       "    </tr>\n",
       "    <tr>\n",
       "      <th>9</th>\n",
       "      <td>2014-02-18 15:22:20.0000002</td>\n",
       "      <td>6.23</td>\n",
       "    </tr>\n",
       "    <tr>\n",
       "      <th>10</th>\n",
       "      <td>2014-02-18 15:22:20.0000003</td>\n",
       "      <td>8.89</td>\n",
       "    </tr>\n",
       "    <tr>\n",
       "      <th>12</th>\n",
       "      <td>2010-03-29 20:20:32.0000002</td>\n",
       "      <td>5.24</td>\n",
       "    </tr>\n",
       "    <tr>\n",
       "      <th>13</th>\n",
       "      <td>2010-03-29 20:20:32.0000001</td>\n",
       "      <td>7.66</td>\n",
       "    </tr>\n",
       "    <tr>\n",
       "      <th>14</th>\n",
       "      <td>2011-10-06 03:59:12.0000002</td>\n",
       "      <td>8.68</td>\n",
       "    </tr>\n",
       "    <tr>\n",
       "      <th>16</th>\n",
       "      <td>2012-07-15 16:45:04.0000006</td>\n",
       "      <td>4.92</td>\n",
       "    </tr>\n",
       "    <tr>\n",
       "      <th>17</th>\n",
       "      <td>2012-07-15 16:45:04.0000002</td>\n",
       "      <td>9.05</td>\n",
       "    </tr>\n",
       "    <tr>\n",
       "      <th>18</th>\n",
       "      <td>2012-07-15 16:45:04.0000003</td>\n",
       "      <td>5.72</td>\n",
       "    </tr>\n",
       "    <tr>\n",
       "      <th>19</th>\n",
       "      <td>2012-07-15 16:45:04.0000004</td>\n",
       "      <td>5.58</td>\n",
       "    </tr>\n",
       "    <tr>\n",
       "      <th>20</th>\n",
       "      <td>2014-10-29 02:09:56.0000001</td>\n",
       "      <td>9.44</td>\n",
       "    </tr>\n",
       "    <tr>\n",
       "      <th>21</th>\n",
       "      <td>2014-06-14 13:39:00.00000010</td>\n",
       "      <td>8.39</td>\n",
       "    </tr>\n",
       "    <tr>\n",
       "      <th>22</th>\n",
       "      <td>2014-06-14 13:39:00.00000060</td>\n",
       "      <td>7.04</td>\n",
       "    </tr>\n",
       "    <tr>\n",
       "      <th>23</th>\n",
       "      <td>2014-06-14 13:39:00.00000087</td>\n",
       "      <td>7.87</td>\n",
       "    </tr>\n",
       "    <tr>\n",
       "      <th>24</th>\n",
       "      <td>2014-06-14 13:39:00.00000050</td>\n",
       "      <td>15.73</td>\n",
       "    </tr>\n",
       "    <tr>\n",
       "      <th>25</th>\n",
       "      <td>2014-06-14 13:39:00.0000003</td>\n",
       "      <td>6.29</td>\n",
       "    </tr>\n",
       "    <tr>\n",
       "      <th>27</th>\n",
       "      <td>2014-06-14 13:39:00.00000015</td>\n",
       "      <td>23.17</td>\n",
       "    </tr>\n",
       "    <tr>\n",
       "      <th>28</th>\n",
       "      <td>2014-06-14 13:39:00.00000073</td>\n",
       "      <td>6.61</td>\n",
       "    </tr>\n",
       "    <tr>\n",
       "      <th>29</th>\n",
       "      <td>2014-06-14 13:39:00.00000077</td>\n",
       "      <td>14.95</td>\n",
       "    </tr>\n",
       "    <tr>\n",
       "      <th>30</th>\n",
       "      <td>2014-06-14 13:39:00.000000145</td>\n",
       "      <td>9.91</td>\n",
       "    </tr>\n",
       "    <tr>\n",
       "      <th>31</th>\n",
       "      <td>2014-06-14 13:39:00.00000079</td>\n",
       "      <td>6.22</td>\n",
       "    </tr>\n",
       "    <tr>\n",
       "      <th>32</th>\n",
       "      <td>2014-06-14 13:39:00.000000121</td>\n",
       "      <td>6.07</td>\n",
       "    </tr>\n",
       "    <tr>\n",
       "      <th>...</th>\n",
       "      <td>...</td>\n",
       "      <td>...</td>\n",
       "    </tr>\n",
       "    <tr>\n",
       "      <th>9882</th>\n",
       "      <td>2013-09-25 22:00:00.000000163</td>\n",
       "      <td>8.93</td>\n",
       "    </tr>\n",
       "    <tr>\n",
       "      <th>9883</th>\n",
       "      <td>2013-09-25 22:00:00.00000077</td>\n",
       "      <td>13.42</td>\n",
       "    </tr>\n",
       "    <tr>\n",
       "      <th>9884</th>\n",
       "      <td>2013-09-25 22:00:00.00000060</td>\n",
       "      <td>38.13</td>\n",
       "    </tr>\n",
       "    <tr>\n",
       "      <th>9885</th>\n",
       "      <td>2013-09-25 22:00:00.000000213</td>\n",
       "      <td>15.52</td>\n",
       "    </tr>\n",
       "    <tr>\n",
       "      <th>9886</th>\n",
       "      <td>2013-09-25 22:00:00.000000150</td>\n",
       "      <td>16.96</td>\n",
       "    </tr>\n",
       "    <tr>\n",
       "      <th>9887</th>\n",
       "      <td>2013-09-25 22:00:00.00000010</td>\n",
       "      <td>7.63</td>\n",
       "    </tr>\n",
       "    <tr>\n",
       "      <th>9889</th>\n",
       "      <td>2013-09-25 22:00:00.00000041</td>\n",
       "      <td>10.60</td>\n",
       "    </tr>\n",
       "    <tr>\n",
       "      <th>9890</th>\n",
       "      <td>2013-09-25 22:00:00.000000109</td>\n",
       "      <td>10.26</td>\n",
       "    </tr>\n",
       "    <tr>\n",
       "      <th>9891</th>\n",
       "      <td>2013-09-25 22:00:00.000000210</td>\n",
       "      <td>16.02</td>\n",
       "    </tr>\n",
       "    <tr>\n",
       "      <th>9892</th>\n",
       "      <td>2013-09-25 22:00:00.000000151</td>\n",
       "      <td>9.07</td>\n",
       "    </tr>\n",
       "    <tr>\n",
       "      <th>9893</th>\n",
       "      <td>2013-09-25 22:00:00.000000190</td>\n",
       "      <td>14.11</td>\n",
       "    </tr>\n",
       "    <tr>\n",
       "      <th>9894</th>\n",
       "      <td>2013-09-25 22:00:00.000000153</td>\n",
       "      <td>10.56</td>\n",
       "    </tr>\n",
       "    <tr>\n",
       "      <th>9895</th>\n",
       "      <td>2013-09-25 22:00:00.000000241</td>\n",
       "      <td>25.90</td>\n",
       "    </tr>\n",
       "    <tr>\n",
       "      <th>9896</th>\n",
       "      <td>2013-09-25 22:00:00.000000127</td>\n",
       "      <td>9.11</td>\n",
       "    </tr>\n",
       "    <tr>\n",
       "      <th>9897</th>\n",
       "      <td>2015-02-20 11:08:29.0000001</td>\n",
       "      <td>14.60</td>\n",
       "    </tr>\n",
       "    <tr>\n",
       "      <th>9898</th>\n",
       "      <td>2015-01-12 15:36:37.0000002</td>\n",
       "      <td>4.99</td>\n",
       "    </tr>\n",
       "    <tr>\n",
       "      <th>9899</th>\n",
       "      <td>2015-06-07 00:38:14.0000002</td>\n",
       "      <td>15.28</td>\n",
       "    </tr>\n",
       "    <tr>\n",
       "      <th>9900</th>\n",
       "      <td>2015-04-12 21:56:22.0000005</td>\n",
       "      <td>7.76</td>\n",
       "    </tr>\n",
       "    <tr>\n",
       "      <th>9901</th>\n",
       "      <td>2015-04-10 11:56:54.0000004</td>\n",
       "      <td>7.21</td>\n",
       "    </tr>\n",
       "    <tr>\n",
       "      <th>9902</th>\n",
       "      <td>2015-06-25 01:01:46.0000002</td>\n",
       "      <td>15.43</td>\n",
       "    </tr>\n",
       "    <tr>\n",
       "      <th>9903</th>\n",
       "      <td>2015-05-29 10:02:42.0000001</td>\n",
       "      <td>9.43</td>\n",
       "    </tr>\n",
       "    <tr>\n",
       "      <th>9904</th>\n",
       "      <td>2015-06-30 20:03:50.0000002</td>\n",
       "      <td>39.81</td>\n",
       "    </tr>\n",
       "    <tr>\n",
       "      <th>9905</th>\n",
       "      <td>2015-02-27 19:36:02.0000006</td>\n",
       "      <td>21.93</td>\n",
       "    </tr>\n",
       "    <tr>\n",
       "      <th>9907</th>\n",
       "      <td>2015-02-03 09:00:58.0000001</td>\n",
       "      <td>32.68</td>\n",
       "    </tr>\n",
       "    <tr>\n",
       "      <th>9908</th>\n",
       "      <td>2015-05-19 13:58:11.0000001</td>\n",
       "      <td>7.75</td>\n",
       "    </tr>\n",
       "    <tr>\n",
       "      <th>9909</th>\n",
       "      <td>2015-05-10 12:37:51.0000002</td>\n",
       "      <td>7.74</td>\n",
       "    </tr>\n",
       "    <tr>\n",
       "      <th>9910</th>\n",
       "      <td>2015-01-12 17:05:51.0000001</td>\n",
       "      <td>10.34</td>\n",
       "    </tr>\n",
       "    <tr>\n",
       "      <th>9911</th>\n",
       "      <td>2015-04-19 20:44:15.0000001</td>\n",
       "      <td>46.54</td>\n",
       "    </tr>\n",
       "    <tr>\n",
       "      <th>9912</th>\n",
       "      <td>2015-01-31 01:05:19.0000005</td>\n",
       "      <td>18.38</td>\n",
       "    </tr>\n",
       "    <tr>\n",
       "      <th>9913</th>\n",
       "      <td>2015-01-18 14:06:23.0000006</td>\n",
       "      <td>6.77</td>\n",
       "    </tr>\n",
       "  </tbody>\n",
       "</table>\n",
       "<p>9665 rows × 2 columns</p>\n",
       "</div>"
      ],
      "text/plain": [
       "                                key  fare_amount\n",
       "0       2015-01-27 13:08:24.0000002         8.85\n",
       "1       2015-01-27 13:08:24.0000003         9.26\n",
       "2       2011-10-08 11:53:44.0000002         5.41\n",
       "3       2012-12-01 21:12:12.0000002         7.90\n",
       "4       2012-12-01 21:12:12.0000003        14.47\n",
       "5       2012-12-01 21:12:12.0000005        10.55\n",
       "6       2011-10-06 12:10:20.0000001         6.29\n",
       "7       2011-10-06 12:10:20.0000003        54.09\n",
       "8       2011-10-06 12:10:20.0000002        12.62\n",
       "9       2014-02-18 15:22:20.0000002         6.23\n",
       "10      2014-02-18 15:22:20.0000003         8.89\n",
       "12      2010-03-29 20:20:32.0000002         5.24\n",
       "13      2010-03-29 20:20:32.0000001         7.66\n",
       "14      2011-10-06 03:59:12.0000002         8.68\n",
       "16      2012-07-15 16:45:04.0000006         4.92\n",
       "17      2012-07-15 16:45:04.0000002         9.05\n",
       "18      2012-07-15 16:45:04.0000003         5.72\n",
       "19      2012-07-15 16:45:04.0000004         5.58\n",
       "20      2014-10-29 02:09:56.0000001         9.44\n",
       "21     2014-06-14 13:39:00.00000010         8.39\n",
       "22     2014-06-14 13:39:00.00000060         7.04\n",
       "23     2014-06-14 13:39:00.00000087         7.87\n",
       "24     2014-06-14 13:39:00.00000050        15.73\n",
       "25      2014-06-14 13:39:00.0000003         6.29\n",
       "27     2014-06-14 13:39:00.00000015        23.17\n",
       "28     2014-06-14 13:39:00.00000073         6.61\n",
       "29     2014-06-14 13:39:00.00000077        14.95\n",
       "30    2014-06-14 13:39:00.000000145         9.91\n",
       "31     2014-06-14 13:39:00.00000079         6.22\n",
       "32    2014-06-14 13:39:00.000000121         6.07\n",
       "...                             ...          ...\n",
       "9882  2013-09-25 22:00:00.000000163         8.93\n",
       "9883   2013-09-25 22:00:00.00000077        13.42\n",
       "9884   2013-09-25 22:00:00.00000060        38.13\n",
       "9885  2013-09-25 22:00:00.000000213        15.52\n",
       "9886  2013-09-25 22:00:00.000000150        16.96\n",
       "9887   2013-09-25 22:00:00.00000010         7.63\n",
       "9889   2013-09-25 22:00:00.00000041        10.60\n",
       "9890  2013-09-25 22:00:00.000000109        10.26\n",
       "9891  2013-09-25 22:00:00.000000210        16.02\n",
       "9892  2013-09-25 22:00:00.000000151         9.07\n",
       "9893  2013-09-25 22:00:00.000000190        14.11\n",
       "9894  2013-09-25 22:00:00.000000153        10.56\n",
       "9895  2013-09-25 22:00:00.000000241        25.90\n",
       "9896  2013-09-25 22:00:00.000000127         9.11\n",
       "9897    2015-02-20 11:08:29.0000001        14.60\n",
       "9898    2015-01-12 15:36:37.0000002         4.99\n",
       "9899    2015-06-07 00:38:14.0000002        15.28\n",
       "9900    2015-04-12 21:56:22.0000005         7.76\n",
       "9901    2015-04-10 11:56:54.0000004         7.21\n",
       "9902    2015-06-25 01:01:46.0000002        15.43\n",
       "9903    2015-05-29 10:02:42.0000001         9.43\n",
       "9904    2015-06-30 20:03:50.0000002        39.81\n",
       "9905    2015-02-27 19:36:02.0000006        21.93\n",
       "9907    2015-02-03 09:00:58.0000001        32.68\n",
       "9908    2015-05-19 13:58:11.0000001         7.75\n",
       "9909    2015-05-10 12:37:51.0000002         7.74\n",
       "9910    2015-01-12 17:05:51.0000001        10.34\n",
       "9911    2015-04-19 20:44:15.0000001        46.54\n",
       "9912    2015-01-31 01:05:19.0000005        18.38\n",
       "9913    2015-01-18 14:06:23.0000006         6.77\n",
       "\n",
       "[9665 rows x 2 columns]"
      ]
     },
     "execution_count": 47,
     "metadata": {},
     "output_type": "execute_result"
    }
   ],
   "source": [
    "submission"
   ]
  },
  {
   "cell_type": "markdown",
   "metadata": {},
   "source": [
    "# 7)Conclusion"
   ]
  },
  {
   "cell_type": "markdown",
   "metadata": {},
   "source": [
    "i have tried all the parts related to the proccess of machin learning with a variety of python package and i know there are still some problem then i hope to get your feedback to improve it."
   ]
  }
 ],
 "metadata": {
  "kernelspec": {
   "display_name": "Python 3",
   "language": "python",
   "name": "python3"
  },
  "language_info": {
   "codemirror_mode": {
    "name": "ipython",
    "version": 3
   },
   "file_extension": ".py",
   "mimetype": "text/x-python",
   "name": "python",
   "nbconvert_exporter": "python",
   "pygments_lexer": "ipython3",
   "version": "3.6.6"
  }
 },
 "nbformat": 4,
 "nbformat_minor": 1
}
